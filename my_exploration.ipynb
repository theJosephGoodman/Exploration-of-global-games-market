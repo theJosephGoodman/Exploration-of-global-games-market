{
 "cells": [
  {
   "cell_type": "markdown",
   "metadata": {},
   "source": [
    "### _**Послание ревьюеру:** Я исправил тот косяк с гистограмами._"
   ]
  },
  {
   "cell_type": "markdown",
   "metadata": {},
   "source": [
    "# Вступление\n",
    "## Данные\n",
    "Исторические данные о продажах игр показывающее, оценки пользователей и экспертов, жанры и платформы с 1980 по 2016 год\n",
    "### Описание столбцов:\n",
    "**Name** — название игры\n",
    "\n",
    "**Platform** — платформа\n",
    "\n",
    "**Year_of_Release** — год выпуска\n",
    "\n",
    "**Genre** — жанр игры\n",
    "\n",
    "**NA_sales** — продажи в Северной Америке (миллионы долларов)\n",
    "\n",
    "**EU_sales** — продажи в Европе (миллионы долларов)\n",
    "\n",
    "**JP_sales** — продажи в Японии (миллионы долларов)\n",
    "\n",
    "**Other_sales** — продажи в других странах (миллионы долларов)\n",
    "\n",
    "**Critic_Score** — оценка критиков (от 0 до 100)\n",
    "\n",
    "**User_Score** — оценка пользователей (от 0 до 10)\n",
    "\n",
    "**Rating** — рейтинг от организации ESRB (англ. Entertainment Software Rating Board). Эта ассоциация определяет рейтинг компьютерных игр и присваивает им подходящую возрастную категорию.\n",
    "## Цель\n",
    "Выявить определяющие успешность игры закономерности. Это позволит сделать ставку на потенциально популярный продукт и спланировать рекламные кампании.\n"
   ]
  },
  {
   "cell_type": "code",
   "execution_count": 1,
   "metadata": {},
   "outputs": [],
   "source": [
    "import pandas as pd\n",
    "import numpy as np\n",
    "import matplotlib.pyplot as plt\n",
    "import seaborn as sns\n",
    "import scipy"
   ]
  },
  {
   "cell_type": "code",
   "execution_count": 2,
   "metadata": {},
   "outputs": [],
   "source": [
    "from collections import Counter"
   ]
  },
  {
   "cell_type": "code",
   "execution_count": 3,
   "metadata": {},
   "outputs": [],
   "source": [
    "from scipy.stats import ttest_1samp, ttest_ind\n",
    "from scipy.stats import levene"
   ]
  },
  {
   "cell_type": "markdown",
   "metadata": {},
   "source": [
    "# Шаг 2. Откройте файл с данными и изучите общую информацию"
   ]
  },
  {
   "cell_type": "code",
   "execution_count": 4,
   "metadata": {},
   "outputs": [
    {
     "data": {
      "text/html": [
       "<div>\n",
       "<style scoped>\n",
       "    .dataframe tbody tr th:only-of-type {\n",
       "        vertical-align: middle;\n",
       "    }\n",
       "\n",
       "    .dataframe tbody tr th {\n",
       "        vertical-align: top;\n",
       "    }\n",
       "\n",
       "    .dataframe thead th {\n",
       "        text-align: right;\n",
       "    }\n",
       "</style>\n",
       "<table border=\"1\" class=\"dataframe\">\n",
       "  <thead>\n",
       "    <tr style=\"text-align: right;\">\n",
       "      <th></th>\n",
       "      <th>Name</th>\n",
       "      <th>Platform</th>\n",
       "      <th>Year_of_Release</th>\n",
       "      <th>Genre</th>\n",
       "      <th>NA_sales</th>\n",
       "      <th>EU_sales</th>\n",
       "      <th>JP_sales</th>\n",
       "      <th>Other_sales</th>\n",
       "      <th>Critic_Score</th>\n",
       "      <th>User_Score</th>\n",
       "      <th>Rating</th>\n",
       "    </tr>\n",
       "  </thead>\n",
       "  <tbody>\n",
       "    <tr>\n",
       "      <td>0</td>\n",
       "      <td>Wii Sports</td>\n",
       "      <td>Wii</td>\n",
       "      <td>2006.0</td>\n",
       "      <td>Sports</td>\n",
       "      <td>41.36</td>\n",
       "      <td>28.96</td>\n",
       "      <td>3.77</td>\n",
       "      <td>8.45</td>\n",
       "      <td>76.0</td>\n",
       "      <td>8</td>\n",
       "      <td>E</td>\n",
       "    </tr>\n",
       "    <tr>\n",
       "      <td>1</td>\n",
       "      <td>Super Mario Bros.</td>\n",
       "      <td>NES</td>\n",
       "      <td>1985.0</td>\n",
       "      <td>Platform</td>\n",
       "      <td>29.08</td>\n",
       "      <td>3.58</td>\n",
       "      <td>6.81</td>\n",
       "      <td>0.77</td>\n",
       "      <td>NaN</td>\n",
       "      <td>NaN</td>\n",
       "      <td>NaN</td>\n",
       "    </tr>\n",
       "    <tr>\n",
       "      <td>2</td>\n",
       "      <td>Mario Kart Wii</td>\n",
       "      <td>Wii</td>\n",
       "      <td>2008.0</td>\n",
       "      <td>Racing</td>\n",
       "      <td>15.68</td>\n",
       "      <td>12.76</td>\n",
       "      <td>3.79</td>\n",
       "      <td>3.29</td>\n",
       "      <td>82.0</td>\n",
       "      <td>8.3</td>\n",
       "      <td>E</td>\n",
       "    </tr>\n",
       "    <tr>\n",
       "      <td>3</td>\n",
       "      <td>Wii Sports Resort</td>\n",
       "      <td>Wii</td>\n",
       "      <td>2009.0</td>\n",
       "      <td>Sports</td>\n",
       "      <td>15.61</td>\n",
       "      <td>10.93</td>\n",
       "      <td>3.28</td>\n",
       "      <td>2.95</td>\n",
       "      <td>80.0</td>\n",
       "      <td>8</td>\n",
       "      <td>E</td>\n",
       "    </tr>\n",
       "    <tr>\n",
       "      <td>4</td>\n",
       "      <td>Pokemon Red/Pokemon Blue</td>\n",
       "      <td>GB</td>\n",
       "      <td>1996.0</td>\n",
       "      <td>Role-Playing</td>\n",
       "      <td>11.27</td>\n",
       "      <td>8.89</td>\n",
       "      <td>10.22</td>\n",
       "      <td>1.00</td>\n",
       "      <td>NaN</td>\n",
       "      <td>NaN</td>\n",
       "      <td>NaN</td>\n",
       "    </tr>\n",
       "  </tbody>\n",
       "</table>\n",
       "</div>"
      ],
      "text/plain": [
       "                       Name Platform  Year_of_Release         Genre  NA_sales  \\\n",
       "0                Wii Sports      Wii           2006.0        Sports     41.36   \n",
       "1         Super Mario Bros.      NES           1985.0      Platform     29.08   \n",
       "2            Mario Kart Wii      Wii           2008.0        Racing     15.68   \n",
       "3         Wii Sports Resort      Wii           2009.0        Sports     15.61   \n",
       "4  Pokemon Red/Pokemon Blue       GB           1996.0  Role-Playing     11.27   \n",
       "\n",
       "   EU_sales  JP_sales  Other_sales  Critic_Score User_Score Rating  \n",
       "0     28.96      3.77         8.45          76.0          8      E  \n",
       "1      3.58      6.81         0.77           NaN        NaN    NaN  \n",
       "2     12.76      3.79         3.29          82.0        8.3      E  \n",
       "3     10.93      3.28         2.95          80.0          8      E  \n",
       "4      8.89     10.22         1.00           NaN        NaN    NaN  "
      ]
     },
     "execution_count": 4,
     "metadata": {},
     "output_type": "execute_result"
    }
   ],
   "source": [
    "df = pd.read_csv('/datasets/games.csv')\n",
    "df.head(5)"
   ]
  },
  {
   "cell_type": "markdown",
   "metadata": {},
   "source": [
    "# Шаг 3. Подготовьте данные"
   ]
  },
  {
   "cell_type": "markdown",
   "metadata": {},
   "source": [
    "## Замените названия столбцов (приведите к нижнему регистру)"
   ]
  },
  {
   "cell_type": "code",
   "execution_count": 5,
   "metadata": {},
   "outputs": [
    {
     "data": {
      "text/html": [
       "<div>\n",
       "<style scoped>\n",
       "    .dataframe tbody tr th:only-of-type {\n",
       "        vertical-align: middle;\n",
       "    }\n",
       "\n",
       "    .dataframe tbody tr th {\n",
       "        vertical-align: top;\n",
       "    }\n",
       "\n",
       "    .dataframe thead th {\n",
       "        text-align: right;\n",
       "    }\n",
       "</style>\n",
       "<table border=\"1\" class=\"dataframe\">\n",
       "  <thead>\n",
       "    <tr style=\"text-align: right;\">\n",
       "      <th></th>\n",
       "      <th>name</th>\n",
       "      <th>platform</th>\n",
       "      <th>year_of_release</th>\n",
       "      <th>genre</th>\n",
       "      <th>na_sales</th>\n",
       "      <th>eu_sales</th>\n",
       "      <th>jp_sales</th>\n",
       "      <th>other_sales</th>\n",
       "      <th>critic_score</th>\n",
       "      <th>user_score</th>\n",
       "      <th>rating</th>\n",
       "    </tr>\n",
       "  </thead>\n",
       "  <tbody>\n",
       "    <tr>\n",
       "      <td>0</td>\n",
       "      <td>Wii Sports</td>\n",
       "      <td>Wii</td>\n",
       "      <td>2006.0</td>\n",
       "      <td>Sports</td>\n",
       "      <td>41.36</td>\n",
       "      <td>28.96</td>\n",
       "      <td>3.77</td>\n",
       "      <td>8.45</td>\n",
       "      <td>76.0</td>\n",
       "      <td>8</td>\n",
       "      <td>E</td>\n",
       "    </tr>\n",
       "    <tr>\n",
       "      <td>1</td>\n",
       "      <td>Super Mario Bros.</td>\n",
       "      <td>NES</td>\n",
       "      <td>1985.0</td>\n",
       "      <td>Platform</td>\n",
       "      <td>29.08</td>\n",
       "      <td>3.58</td>\n",
       "      <td>6.81</td>\n",
       "      <td>0.77</td>\n",
       "      <td>NaN</td>\n",
       "      <td>NaN</td>\n",
       "      <td>NaN</td>\n",
       "    </tr>\n",
       "    <tr>\n",
       "      <td>2</td>\n",
       "      <td>Mario Kart Wii</td>\n",
       "      <td>Wii</td>\n",
       "      <td>2008.0</td>\n",
       "      <td>Racing</td>\n",
       "      <td>15.68</td>\n",
       "      <td>12.76</td>\n",
       "      <td>3.79</td>\n",
       "      <td>3.29</td>\n",
       "      <td>82.0</td>\n",
       "      <td>8.3</td>\n",
       "      <td>E</td>\n",
       "    </tr>\n",
       "    <tr>\n",
       "      <td>3</td>\n",
       "      <td>Wii Sports Resort</td>\n",
       "      <td>Wii</td>\n",
       "      <td>2009.0</td>\n",
       "      <td>Sports</td>\n",
       "      <td>15.61</td>\n",
       "      <td>10.93</td>\n",
       "      <td>3.28</td>\n",
       "      <td>2.95</td>\n",
       "      <td>80.0</td>\n",
       "      <td>8</td>\n",
       "      <td>E</td>\n",
       "    </tr>\n",
       "    <tr>\n",
       "      <td>4</td>\n",
       "      <td>Pokemon Red/Pokemon Blue</td>\n",
       "      <td>GB</td>\n",
       "      <td>1996.0</td>\n",
       "      <td>Role-Playing</td>\n",
       "      <td>11.27</td>\n",
       "      <td>8.89</td>\n",
       "      <td>10.22</td>\n",
       "      <td>1.00</td>\n",
       "      <td>NaN</td>\n",
       "      <td>NaN</td>\n",
       "      <td>NaN</td>\n",
       "    </tr>\n",
       "  </tbody>\n",
       "</table>\n",
       "</div>"
      ],
      "text/plain": [
       "                       name platform  year_of_release         genre  na_sales  \\\n",
       "0                Wii Sports      Wii           2006.0        Sports     41.36   \n",
       "1         Super Mario Bros.      NES           1985.0      Platform     29.08   \n",
       "2            Mario Kart Wii      Wii           2008.0        Racing     15.68   \n",
       "3         Wii Sports Resort      Wii           2009.0        Sports     15.61   \n",
       "4  Pokemon Red/Pokemon Blue       GB           1996.0  Role-Playing     11.27   \n",
       "\n",
       "   eu_sales  jp_sales  other_sales  critic_score user_score rating  \n",
       "0     28.96      3.77         8.45          76.0          8      E  \n",
       "1      3.58      6.81         0.77           NaN        NaN    NaN  \n",
       "2     12.76      3.79         3.29          82.0        8.3      E  \n",
       "3     10.93      3.28         2.95          80.0          8      E  \n",
       "4      8.89     10.22         1.00           NaN        NaN    NaN  "
      ]
     },
     "execution_count": 5,
     "metadata": {},
     "output_type": "execute_result"
    }
   ],
   "source": [
    "df.columns = df.columns.map(lambda x: x.lower())\n",
    "df.head()"
   ]
  },
  {
   "cell_type": "markdown",
   "metadata": {},
   "source": [
    "## Преобразуйте данные в нужные типы. Опишите, в каких столбцах заменили тип данных и почему;"
   ]
  },
  {
   "cell_type": "code",
   "execution_count": 6,
   "metadata": {},
   "outputs": [
    {
     "name": "stdout",
     "output_type": "stream",
     "text": [
      "<class 'pandas.core.frame.DataFrame'>\n",
      "RangeIndex: 16715 entries, 0 to 16714\n",
      "Data columns (total 11 columns):\n",
      "name               16713 non-null object\n",
      "platform           16715 non-null object\n",
      "year_of_release    16446 non-null float64\n",
      "genre              16713 non-null object\n",
      "na_sales           16715 non-null float64\n",
      "eu_sales           16715 non-null float64\n",
      "jp_sales           16715 non-null float64\n",
      "other_sales        16715 non-null float64\n",
      "critic_score       8137 non-null float64\n",
      "user_score         10014 non-null object\n",
      "rating             9949 non-null object\n",
      "dtypes: float64(6), object(5)\n",
      "memory usage: 1.4+ MB\n"
     ]
    }
   ],
   "source": [
    "df.info()"
   ]
  },
  {
   "cell_type": "markdown",
   "metadata": {},
   "source": [
    "Кандидаты на изменение типа:\n",
    "\n",
    "year_of_release - все года целочисленны, а float64 жрет дополнительно память\n",
    "\n",
    "user_score - там находятся строковые значения, которые пока надо обработать.\n"
   ]
  },
  {
   "cell_type": "markdown",
   "metadata": {},
   "source": [
    "Пока надо обработать столбцы. Потом привести к нужному типу"
   ]
  },
  {
   "cell_type": "markdown",
   "metadata": {},
   "source": [
    "## Обработайте пропуски при необходимости"
   ]
  },
  {
   "cell_type": "code",
   "execution_count": 7,
   "metadata": {},
   "outputs": [
    {
     "name": "stdout",
     "output_type": "stream",
     "text": [
      "<class 'pandas.core.frame.DataFrame'>\n",
      "RangeIndex: 16715 entries, 0 to 16714\n",
      "Data columns (total 11 columns):\n",
      "name               16713 non-null object\n",
      "platform           16715 non-null object\n",
      "year_of_release    16446 non-null float64\n",
      "genre              16713 non-null object\n",
      "na_sales           16715 non-null float64\n",
      "eu_sales           16715 non-null float64\n",
      "jp_sales           16715 non-null float64\n",
      "other_sales        16715 non-null float64\n",
      "critic_score       8137 non-null float64\n",
      "user_score         10014 non-null object\n",
      "rating             9949 non-null object\n",
      "dtypes: float64(6), object(5)\n",
      "memory usage: 1.4+ MB\n"
     ]
    },
    {
     "data": {
      "text/plain": [
       "name                  2\n",
       "platform              0\n",
       "year_of_release     269\n",
       "genre                 2\n",
       "na_sales              0\n",
       "eu_sales              0\n",
       "jp_sales              0\n",
       "other_sales           0\n",
       "critic_score       8578\n",
       "user_score         6701\n",
       "rating             6766\n",
       "dtype: int64"
      ]
     },
     "execution_count": 7,
     "metadata": {},
     "output_type": "execute_result"
    }
   ],
   "source": [
    "df.info()\n",
    "df.isnull().sum()"
   ]
  },
  {
   "cell_type": "markdown",
   "metadata": {},
   "source": [
    "### Работаю с name"
   ]
  },
  {
   "cell_type": "code",
   "execution_count": 8,
   "metadata": {},
   "outputs": [
    {
     "name": "stdout",
     "output_type": "stream",
     "text": [
      "До выполнения работ: 2\n"
     ]
    }
   ],
   "source": [
    "print('До выполнения работ:', df['name'].isnull().sum())"
   ]
  },
  {
   "cell_type": "code",
   "execution_count": 9,
   "metadata": {},
   "outputs": [
    {
     "name": "stdout",
     "output_type": "stream",
     "text": [
      "После выполнения работ: 0\n"
     ]
    }
   ],
   "source": [
    "df = df.dropna(subset=['name']).reset_index(drop=True)\n",
    "#df.isnull().sum()\n",
    "print('После выполнения работ:', df['name'].isnull().sum())"
   ]
  },
  {
   "cell_type": "markdown",
   "metadata": {},
   "source": [
    "### Работаю с year_of_release"
   ]
  },
  {
   "cell_type": "markdown",
   "metadata": {},
   "source": [
    "Я прошерстил датасет и заметил, что игры обычно выходят в один год для разных платформ. Поэтому можно заполнить пропущенные данные в этом столбце просто сопоставив с другими платформами тех же игр"
   ]
  },
  {
   "cell_type": "code",
   "execution_count": 10,
   "metadata": {
    "scrolled": true
   },
   "outputs": [
    {
     "data": {
      "text/html": [
       "<div>\n",
       "<style scoped>\n",
       "    .dataframe tbody tr th:only-of-type {\n",
       "        vertical-align: middle;\n",
       "    }\n",
       "\n",
       "    .dataframe tbody tr th {\n",
       "        vertical-align: top;\n",
       "    }\n",
       "\n",
       "    .dataframe thead th {\n",
       "        text-align: right;\n",
       "    }\n",
       "</style>\n",
       "<table border=\"1\" class=\"dataframe\">\n",
       "  <thead>\n",
       "    <tr style=\"text-align: right;\">\n",
       "      <th></th>\n",
       "      <th>name</th>\n",
       "      <th>platform</th>\n",
       "      <th>year_of_release</th>\n",
       "      <th>genre</th>\n",
       "      <th>na_sales</th>\n",
       "      <th>eu_sales</th>\n",
       "      <th>jp_sales</th>\n",
       "      <th>other_sales</th>\n",
       "      <th>critic_score</th>\n",
       "      <th>user_score</th>\n",
       "      <th>rating</th>\n",
       "    </tr>\n",
       "  </thead>\n",
       "  <tbody>\n",
       "    <tr>\n",
       "      <td>0</td>\n",
       "      <td>Wii Sports</td>\n",
       "      <td>Wii</td>\n",
       "      <td>2006.0</td>\n",
       "      <td>Sports</td>\n",
       "      <td>41.36</td>\n",
       "      <td>28.96</td>\n",
       "      <td>3.77</td>\n",
       "      <td>8.45</td>\n",
       "      <td>76.0</td>\n",
       "      <td>8</td>\n",
       "      <td>E</td>\n",
       "    </tr>\n",
       "    <tr>\n",
       "      <td>1</td>\n",
       "      <td>Super Mario Bros.</td>\n",
       "      <td>NES</td>\n",
       "      <td>1985.0</td>\n",
       "      <td>Platform</td>\n",
       "      <td>29.08</td>\n",
       "      <td>3.58</td>\n",
       "      <td>6.81</td>\n",
       "      <td>0.77</td>\n",
       "      <td>NaN</td>\n",
       "      <td>NaN</td>\n",
       "      <td>NaN</td>\n",
       "    </tr>\n",
       "    <tr>\n",
       "      <td>2</td>\n",
       "      <td>Mario Kart Wii</td>\n",
       "      <td>Wii</td>\n",
       "      <td>2008.0</td>\n",
       "      <td>Racing</td>\n",
       "      <td>15.68</td>\n",
       "      <td>12.76</td>\n",
       "      <td>3.79</td>\n",
       "      <td>3.29</td>\n",
       "      <td>82.0</td>\n",
       "      <td>8.3</td>\n",
       "      <td>E</td>\n",
       "    </tr>\n",
       "    <tr>\n",
       "      <td>3</td>\n",
       "      <td>Wii Sports Resort</td>\n",
       "      <td>Wii</td>\n",
       "      <td>2009.0</td>\n",
       "      <td>Sports</td>\n",
       "      <td>15.61</td>\n",
       "      <td>10.93</td>\n",
       "      <td>3.28</td>\n",
       "      <td>2.95</td>\n",
       "      <td>80.0</td>\n",
       "      <td>8</td>\n",
       "      <td>E</td>\n",
       "    </tr>\n",
       "    <tr>\n",
       "      <td>4</td>\n",
       "      <td>Pokemon Red/Pokemon Blue</td>\n",
       "      <td>GB</td>\n",
       "      <td>1996.0</td>\n",
       "      <td>Role-Playing</td>\n",
       "      <td>11.27</td>\n",
       "      <td>8.89</td>\n",
       "      <td>10.22</td>\n",
       "      <td>1.00</td>\n",
       "      <td>NaN</td>\n",
       "      <td>NaN</td>\n",
       "      <td>NaN</td>\n",
       "    </tr>\n",
       "  </tbody>\n",
       "</table>\n",
       "</div>"
      ],
      "text/plain": [
       "                       name platform  year_of_release         genre  na_sales  \\\n",
       "0                Wii Sports      Wii           2006.0        Sports     41.36   \n",
       "1         Super Mario Bros.      NES           1985.0      Platform     29.08   \n",
       "2            Mario Kart Wii      Wii           2008.0        Racing     15.68   \n",
       "3         Wii Sports Resort      Wii           2009.0        Sports     15.61   \n",
       "4  Pokemon Red/Pokemon Blue       GB           1996.0  Role-Playing     11.27   \n",
       "\n",
       "   eu_sales  jp_sales  other_sales  critic_score user_score rating  \n",
       "0     28.96      3.77         8.45          76.0          8      E  \n",
       "1      3.58      6.81         0.77           NaN        NaN    NaN  \n",
       "2     12.76      3.79         3.29          82.0        8.3      E  \n",
       "3     10.93      3.28         2.95          80.0          8      E  \n",
       "4      8.89     10.22         1.00           NaN        NaN    NaN  "
      ]
     },
     "execution_count": 10,
     "metadata": {},
     "output_type": "execute_result"
    }
   ],
   "source": [
    "df.head()"
   ]
  },
  {
   "cell_type": "code",
   "execution_count": 11,
   "metadata": {},
   "outputs": [
    {
     "name": "stdout",
     "output_type": "stream",
     "text": [
      "До выполнения работ: 269\n"
     ]
    }
   ],
   "source": [
    "print('До выполнения работ:', df['year_of_release'].isnull().sum())"
   ]
  },
  {
   "cell_type": "code",
   "execution_count": 12,
   "metadata": {},
   "outputs": [],
   "source": [
    "df.year_of_release = df.groupby('name')['year_of_release'].transform(lambda x:  x.fillna(scipy.stats.mode(x).mode[0]))"
   ]
  },
  {
   "cell_type": "code",
   "execution_count": 13,
   "metadata": {},
   "outputs": [
    {
     "name": "stdout",
     "output_type": "stream",
     "text": [
      "После выполнения работ: 146\n"
     ]
    }
   ],
   "source": [
    "print('После выполнения работ:', df['year_of_release'].isnull().sum())"
   ]
  },
  {
   "cell_type": "markdown",
   "metadata": {},
   "source": [
    "Таким путем мы смогли заполнить 123 пропуска в данном столбце."
   ]
  },
  {
   "cell_type": "markdown",
   "metadata": {},
   "source": [
    "### Работаю с critic_score"
   ]
  },
  {
   "cell_type": "code",
   "execution_count": 14,
   "metadata": {},
   "outputs": [
    {
     "name": "stdout",
     "output_type": "stream",
     "text": [
      "До выполнения работ: 8576\n"
     ]
    }
   ],
   "source": [
    "print('До выполнения работ:', df['critic_score'].isnull().sum())"
   ]
  },
  {
   "cell_type": "markdown",
   "metadata": {},
   "source": [
    "Заполню аналогично предыдущему варианту."
   ]
  },
  {
   "cell_type": "code",
   "execution_count": 15,
   "metadata": {},
   "outputs": [],
   "source": [
    "df['critic_score'] = df.groupby('name')['critic_score'].transform(lambda x: x.fillna(x.mean()))"
   ]
  },
  {
   "cell_type": "code",
   "execution_count": 16,
   "metadata": {},
   "outputs": [
    {
     "name": "stdout",
     "output_type": "stream",
     "text": [
      "После выполнения работ: 7615\n"
     ]
    }
   ],
   "source": [
    "print('После выполнения работ:', df['critic_score'].isnull().sum())"
   ]
  },
  {
   "cell_type": "code",
   "execution_count": 17,
   "metadata": {},
   "outputs": [],
   "source": [
    "#df = df.dropna(subset = ['critic_score']).reset_index(drop=True)"
   ]
  },
  {
   "cell_type": "markdown",
   "metadata": {},
   "source": [
    "### Работаю с user_score"
   ]
  },
  {
   "cell_type": "markdown",
   "metadata": {},
   "source": [
    "У user_score есть значения tbd. Надо их преобразовать"
   ]
  },
  {
   "cell_type": "code",
   "execution_count": 18,
   "metadata": {},
   "outputs": [],
   "source": [
    "df.loc[df.user_score=='tbd', 'user_score'] = np.nan\n",
    "df.user_score = df.user_score.astype('float')"
   ]
  },
  {
   "cell_type": "code",
   "execution_count": 19,
   "metadata": {},
   "outputs": [
    {
     "name": "stdout",
     "output_type": "stream",
     "text": [
      "До выполнения работ: 9123\n"
     ]
    }
   ],
   "source": [
    "print('До выполнения работ:', df['user_score'].isnull().sum())"
   ]
  },
  {
   "cell_type": "code",
   "execution_count": 20,
   "metadata": {},
   "outputs": [],
   "source": [
    "df['user_score'] = df.groupby('name')['user_score'].transform(lambda x: x.fillna(x.mean()))"
   ]
  },
  {
   "cell_type": "code",
   "execution_count": 21,
   "metadata": {},
   "outputs": [
    {
     "name": "stdout",
     "output_type": "stream",
     "text": [
      "После выполнения работ: 8024\n"
     ]
    }
   ],
   "source": [
    "print('После выполнения работ:', df['user_score'].isnull().sum())"
   ]
  },
  {
   "cell_type": "markdown",
   "metadata": {},
   "source": [
    "### Работаю с critic_score - 2"
   ]
  },
  {
   "cell_type": "code",
   "execution_count": 22,
   "metadata": {},
   "outputs": [
    {
     "name": "stdout",
     "output_type": "stream",
     "text": [
      "<class 'pandas.core.frame.DataFrame'>\n",
      "RangeIndex: 16713 entries, 0 to 16712\n",
      "Data columns (total 11 columns):\n",
      "name               16713 non-null object\n",
      "platform           16713 non-null object\n",
      "year_of_release    16567 non-null float64\n",
      "genre              16713 non-null object\n",
      "na_sales           16713 non-null float64\n",
      "eu_sales           16713 non-null float64\n",
      "jp_sales           16713 non-null float64\n",
      "other_sales        16713 non-null float64\n",
      "critic_score       9098 non-null float64\n",
      "user_score         8689 non-null float64\n",
      "rating             9949 non-null object\n",
      "dtypes: float64(7), object(4)\n",
      "memory usage: 1.4+ MB\n"
     ]
    }
   ],
   "source": [
    "df.info()"
   ]
  },
  {
   "cell_type": "markdown",
   "metadata": {},
   "source": [
    "Как мы можем видеть из таблицы корреляций ниже, critic_score тесно связан с user_score"
   ]
  },
  {
   "cell_type": "code",
   "execution_count": 23,
   "metadata": {},
   "outputs": [
    {
     "data": {
      "text/plain": [
       "year_of_release    0.019328\n",
       "na_sales           0.231830\n",
       "eu_sales           0.215075\n",
       "jp_sales           0.151256\n",
       "other_sales        0.193422\n",
       "critic_score       1.000000\n",
       "user_score         0.548676\n",
       "Name: critic_score, dtype: float64"
      ]
     },
     "execution_count": 23,
     "metadata": {},
     "output_type": "execute_result"
    }
   ],
   "source": [
    "df.corr()['critic_score']"
   ]
  },
  {
   "cell_type": "markdown",
   "metadata": {},
   "source": [
    "#### Задумка: разобьем user_score на когорты, а затем заполним critic_score как среднее у каждой когорты"
   ]
  },
  {
   "cell_type": "code",
   "execution_count": 24,
   "metadata": {},
   "outputs": [
    {
     "name": "stdout",
     "output_type": "stream",
     "text": [
      "До выполнения работ: 7615\n"
     ]
    }
   ],
   "source": [
    "print('До выполнения работ:', df['critic_score'].isnull().sum())"
   ]
  },
  {
   "cell_type": "code",
   "execution_count": 25,
   "metadata": {},
   "outputs": [
    {
     "data": {
      "text/html": [
       "<div>\n",
       "<style scoped>\n",
       "    .dataframe tbody tr th:only-of-type {\n",
       "        vertical-align: middle;\n",
       "    }\n",
       "\n",
       "    .dataframe tbody tr th {\n",
       "        vertical-align: top;\n",
       "    }\n",
       "\n",
       "    .dataframe thead th {\n",
       "        text-align: right;\n",
       "    }\n",
       "</style>\n",
       "<table border=\"1\" class=\"dataframe\">\n",
       "  <thead>\n",
       "    <tr style=\"text-align: right;\">\n",
       "      <th></th>\n",
       "      <th>name</th>\n",
       "      <th>platform</th>\n",
       "      <th>year_of_release</th>\n",
       "      <th>genre</th>\n",
       "      <th>na_sales</th>\n",
       "      <th>eu_sales</th>\n",
       "      <th>jp_sales</th>\n",
       "      <th>other_sales</th>\n",
       "      <th>critic_score</th>\n",
       "      <th>user_score</th>\n",
       "      <th>rating</th>\n",
       "    </tr>\n",
       "  </thead>\n",
       "  <tbody>\n",
       "    <tr>\n",
       "      <td>0</td>\n",
       "      <td>Wii Sports</td>\n",
       "      <td>Wii</td>\n",
       "      <td>2006.0</td>\n",
       "      <td>Sports</td>\n",
       "      <td>41.36</td>\n",
       "      <td>28.96</td>\n",
       "      <td>3.77</td>\n",
       "      <td>8.45</td>\n",
       "      <td>76.0</td>\n",
       "      <td>8.0</td>\n",
       "      <td>E</td>\n",
       "    </tr>\n",
       "    <tr>\n",
       "      <td>1</td>\n",
       "      <td>Super Mario Bros.</td>\n",
       "      <td>NES</td>\n",
       "      <td>1985.0</td>\n",
       "      <td>Platform</td>\n",
       "      <td>29.08</td>\n",
       "      <td>3.58</td>\n",
       "      <td>6.81</td>\n",
       "      <td>0.77</td>\n",
       "      <td>NaN</td>\n",
       "      <td>NaN</td>\n",
       "      <td>NaN</td>\n",
       "    </tr>\n",
       "    <tr>\n",
       "      <td>2</td>\n",
       "      <td>Mario Kart Wii</td>\n",
       "      <td>Wii</td>\n",
       "      <td>2008.0</td>\n",
       "      <td>Racing</td>\n",
       "      <td>15.68</td>\n",
       "      <td>12.76</td>\n",
       "      <td>3.79</td>\n",
       "      <td>3.29</td>\n",
       "      <td>82.0</td>\n",
       "      <td>8.3</td>\n",
       "      <td>E</td>\n",
       "    </tr>\n",
       "    <tr>\n",
       "      <td>3</td>\n",
       "      <td>Wii Sports Resort</td>\n",
       "      <td>Wii</td>\n",
       "      <td>2009.0</td>\n",
       "      <td>Sports</td>\n",
       "      <td>15.61</td>\n",
       "      <td>10.93</td>\n",
       "      <td>3.28</td>\n",
       "      <td>2.95</td>\n",
       "      <td>80.0</td>\n",
       "      <td>8.0</td>\n",
       "      <td>E</td>\n",
       "    </tr>\n",
       "    <tr>\n",
       "      <td>4</td>\n",
       "      <td>Pokemon Red/Pokemon Blue</td>\n",
       "      <td>GB</td>\n",
       "      <td>1996.0</td>\n",
       "      <td>Role-Playing</td>\n",
       "      <td>11.27</td>\n",
       "      <td>8.89</td>\n",
       "      <td>10.22</td>\n",
       "      <td>1.00</td>\n",
       "      <td>NaN</td>\n",
       "      <td>NaN</td>\n",
       "      <td>NaN</td>\n",
       "    </tr>\n",
       "  </tbody>\n",
       "</table>\n",
       "</div>"
      ],
      "text/plain": [
       "                       name platform  year_of_release         genre  na_sales  \\\n",
       "0                Wii Sports      Wii           2006.0        Sports     41.36   \n",
       "1         Super Mario Bros.      NES           1985.0      Platform     29.08   \n",
       "2            Mario Kart Wii      Wii           2008.0        Racing     15.68   \n",
       "3         Wii Sports Resort      Wii           2009.0        Sports     15.61   \n",
       "4  Pokemon Red/Pokemon Blue       GB           1996.0  Role-Playing     11.27   \n",
       "\n",
       "   eu_sales  jp_sales  other_sales  critic_score  user_score rating  \n",
       "0     28.96      3.77         8.45          76.0         8.0      E  \n",
       "1      3.58      6.81         0.77           NaN         NaN    NaN  \n",
       "2     12.76      3.79         3.29          82.0         8.3      E  \n",
       "3     10.93      3.28         2.95          80.0         8.0      E  \n",
       "4      8.89     10.22         1.00           NaN         NaN    NaN  "
      ]
     },
     "execution_count": 25,
     "metadata": {},
     "output_type": "execute_result"
    }
   ],
   "source": [
    "df.head()"
   ]
  },
  {
   "cell_type": "code",
   "execution_count": 26,
   "metadata": {},
   "outputs": [],
   "source": [
    "# создаю столбец когорт\n",
    "df['user_score_cat'] = df['user_score'].apply(lambda x: x//1)"
   ]
  },
  {
   "cell_type": "code",
   "execution_count": 27,
   "metadata": {},
   "outputs": [
    {
     "data": {
      "text/plain": [
       "user_score_cat\n",
       "0.0    52.250000\n",
       "1.0    43.340860\n",
       "2.0    48.467822\n",
       "3.0    50.385031\n",
       "4.0    56.278505\n",
       "5.0    61.109621\n",
       "6.0    65.627308\n",
       "7.0    71.280839\n",
       "8.0    76.699202\n",
       "9.0    80.401656\n",
       "Name: critic_score, dtype: float64"
      ]
     },
     "execution_count": 27,
     "metadata": {},
     "output_type": "execute_result"
    }
   ],
   "source": [
    "# смотрю на среднее каждой когорты\n",
    "df.groupby('user_score_cat').mean()['critic_score']"
   ]
  },
  {
   "cell_type": "code",
   "execution_count": 28,
   "metadata": {},
   "outputs": [],
   "source": [
    "# Я не особо умный, зато трудолюбывый :)\n",
    "# Заполняю пропуски\n",
    "df.loc[df['user_score_cat']==0, 'critic_score'] = df.loc[df['user_score_cat']==0, 'critic_score'].fillna(52.250000)\n",
    "df.loc[df['user_score_cat']==1, 'critic_score'] = df.loc[df['user_score_cat']==1, 'critic_score'].fillna(43.340860)\n",
    "df.loc[df['user_score_cat']==2, 'critic_score'] = df.loc[df['user_score_cat']==2, 'critic_score'].fillna( 48.46782)\n",
    "df.loc[df['user_score_cat']==3, 'critic_score'] = df.loc[df['user_score_cat']==3, 'critic_score'].fillna( 50.38503)\n",
    "df.loc[df['user_score_cat']==4, 'critic_score'] = df.loc[df['user_score_cat']==4, 'critic_score'].fillna(56.278505)\n",
    "df.loc[df['user_score_cat']==5, 'critic_score'] = df.loc[df['user_score_cat']==5, 'critic_score'].fillna( 61.10962)\n",
    "df.loc[df['user_score_cat']==6, 'critic_score'] = df.loc[df['user_score_cat']==6, 'critic_score'].fillna( 65.62730)\n",
    "df.loc[df['user_score_cat']==7, 'critic_score'] = df.loc[df['user_score_cat']==7, 'critic_score'].fillna( 71.28083)\n",
    "df.loc[df['user_score_cat']==8, 'critic_score'] = df.loc[df['user_score_cat']==8, 'critic_score'].fillna( 76.69920)\n",
    "df.loc[df['user_score_cat']==9, 'critic_score'] = df.loc[df['user_score_cat']==9, 'critic_score'].fillna(  80.4016)"
   ]
  },
  {
   "cell_type": "code",
   "execution_count": 29,
   "metadata": {},
   "outputs": [
    {
     "name": "stdout",
     "output_type": "stream",
     "text": [
      "После выполнения работ: 7279\n"
     ]
    }
   ],
   "source": [
    "print('После выполнения работ:', df['critic_score'].isnull().sum())"
   ]
  },
  {
   "cell_type": "code",
   "execution_count": 30,
   "metadata": {},
   "outputs": [],
   "source": [
    "df.drop('user_score_cat', axis='columns', inplace=True)"
   ]
  },
  {
   "cell_type": "markdown",
   "metadata": {},
   "source": [
    "### Работаю с rating"
   ]
  },
  {
   "cell_type": "code",
   "execution_count": 31,
   "metadata": {},
   "outputs": [
    {
     "name": "stdout",
     "output_type": "stream",
     "text": [
      "До выполнения работы\n"
     ]
    },
    {
     "data": {
      "text/plain": [
       "6764"
      ]
     },
     "execution_count": 31,
     "metadata": {},
     "output_type": "execute_result"
    }
   ],
   "source": [
    "print('До выполнения работы')\n",
    "df.rating.isnull().sum()"
   ]
  },
  {
   "cell_type": "markdown",
   "metadata": {},
   "source": [
    "Заполняю рейтинг модой "
   ]
  },
  {
   "cell_type": "code",
   "execution_count": null,
   "metadata": {},
   "outputs": [],
   "source": []
  },
  {
   "cell_type": "code",
   "execution_count": 32,
   "metadata": {},
   "outputs": [],
   "source": [
    "df['rating'] = df.groupby('name')['rating'].transform(lambda x: x.fillna(Counter(x).most_common()[0][0]))"
   ]
  },
  {
   "cell_type": "code",
   "execution_count": 33,
   "metadata": {},
   "outputs": [
    {
     "name": "stdout",
     "output_type": "stream",
     "text": [
      "После выполнения работы\n"
     ]
    },
    {
     "data": {
      "text/plain": [
       "6485"
      ]
     },
     "execution_count": 33,
     "metadata": {},
     "output_type": "execute_result"
    }
   ],
   "source": [
    "print('После выполнения работы')\n",
    "df.rating.isnull().sum()"
   ]
  },
  {
   "cell_type": "markdown",
   "metadata": {},
   "source": [
    "## Работаю с user_score - 2"
   ]
  },
  {
   "cell_type": "code",
   "execution_count": 34,
   "metadata": {},
   "outputs": [
    {
     "name": "stdout",
     "output_type": "stream",
     "text": [
      "До выполнения работ: 8024\n"
     ]
    }
   ],
   "source": [
    "print('До выполнения работ:', df['user_score'].isnull().sum())"
   ]
  },
  {
   "cell_type": "code",
   "execution_count": 35,
   "metadata": {},
   "outputs": [],
   "source": [
    "df['critic_score_cat'] = df['critic_score']//10"
   ]
  },
  {
   "cell_type": "code",
   "execution_count": 36,
   "metadata": {},
   "outputs": [
    {
     "data": {
      "text/plain": [
       "critic_score_cat\n",
       "1.0    2.9\n",
       "2.0    3.6\n",
       "3.0    4.6\n",
       "4.0    5.6\n",
       "5.0    6.3\n",
       "6.0    6.9\n",
       "7.0    7.5\n",
       "8.0    7.8\n",
       "9.0    8.3\n",
       "Name: user_score, dtype: float64"
      ]
     },
     "execution_count": 36,
     "metadata": {},
     "output_type": "execute_result"
    }
   ],
   "source": [
    "df.groupby('critic_score_cat').mean()['user_score'].apply(lambda x: np.round(x,1))"
   ]
  },
  {
   "cell_type": "code",
   "execution_count": 37,
   "metadata": {},
   "outputs": [],
   "source": [
    "df.loc[df['critic_score_cat']==1, 'user_score'] = df.loc[df['critic_score_cat']==1, 'user_score'].fillna(2.9)\n",
    "df.loc[df['critic_score_cat']==2, 'user_score'] = df.loc[df['critic_score_cat']==2, 'user_score'].fillna(3.6)\n",
    "df.loc[df['critic_score_cat']==3, 'user_score'] = df.loc[df['critic_score_cat']==3, 'user_score'].fillna(4.6)\n",
    "df.loc[df['critic_score_cat']==4, 'user_score'] = df.loc[df['critic_score_cat']==4, 'user_score'].fillna(5.6)\n",
    "df.loc[df['critic_score_cat']==5, 'user_score'] = df.loc[df['critic_score_cat']==5, 'user_score'].fillna(6.3)\n",
    "df.loc[df['critic_score_cat']==6, 'user_score'] = df.loc[df['critic_score_cat']==6, 'user_score'].fillna(6.9)\n",
    "df.loc[df['critic_score_cat']==7, 'user_score'] = df.loc[df['critic_score_cat']==7, 'user_score'].fillna(7.5)\n",
    "df.loc[df['critic_score_cat']==8, 'user_score'] = df.loc[df['critic_score_cat']==8, 'user_score'].fillna(7.8)\n",
    "df.loc[df['critic_score_cat']==9, 'user_score'] = df.loc[df['critic_score_cat']==9, 'user_score'].fillna(8.3)"
   ]
  },
  {
   "cell_type": "code",
   "execution_count": 38,
   "metadata": {},
   "outputs": [
    {
     "name": "stdout",
     "output_type": "stream",
     "text": [
      "После выполнения работ: 7279\n"
     ]
    }
   ],
   "source": [
    "print('После выполнения работ:', df['user_score'].isnull().sum())"
   ]
  },
  {
   "cell_type": "code",
   "execution_count": 39,
   "metadata": {},
   "outputs": [],
   "source": [
    "df = df.drop('critic_score_cat', axis='columns')"
   ]
  },
  {
   "cell_type": "markdown",
   "metadata": {},
   "source": [
    "## Работаю с rating - 2"
   ]
  },
  {
   "cell_type": "code",
   "execution_count": 40,
   "metadata": {},
   "outputs": [
    {
     "name": "stdout",
     "output_type": "stream",
     "text": [
      "До выполнения работ: 6485\n"
     ]
    }
   ],
   "source": [
    "print('До выполнения работ:', df['rating'].isnull().sum())"
   ]
  },
  {
   "cell_type": "markdown",
   "metadata": {},
   "source": [
    "Поскольку зависимости рейтинга от жанра нет, то у меня остается наиболее очевидный вариант для заполнения пропусков. Заполнить из значением \"Нет рейтинга\""
   ]
  },
  {
   "cell_type": "code",
   "execution_count": 41,
   "metadata": {},
   "outputs": [],
   "source": [
    "df.rating.fillna('No rating', inplace=True)"
   ]
  },
  {
   "cell_type": "code",
   "execution_count": 42,
   "metadata": {},
   "outputs": [
    {
     "name": "stdout",
     "output_type": "stream",
     "text": [
      "После выполнения работ: 0\n"
     ]
    }
   ],
   "source": [
    "print('После выполнения работ:', df['rating'].isnull().sum())"
   ]
  },
  {
   "cell_type": "markdown",
   "metadata": {},
   "source": [
    "## Работаю с year_of_release - 2"
   ]
  },
  {
   "cell_type": "code",
   "execution_count": 43,
   "metadata": {},
   "outputs": [
    {
     "name": "stdout",
     "output_type": "stream",
     "text": [
      "До выполнения работ: 146\n"
     ]
    }
   ],
   "source": [
    "print('До выполнения работ:', df['year_of_release'].isnull().sum())"
   ]
  },
  {
   "cell_type": "markdown",
   "metadata": {},
   "source": [
    "Здесь я решил заполнить данные исходя из идеи того, что игра для PS4 вряд-ли бы выпускалась в 2005 году."
   ]
  },
  {
   "cell_type": "code",
   "execution_count": 44,
   "metadata": {},
   "outputs": [],
   "source": [
    "df['year_of_release'] =  df.groupby('platform')['year_of_release'].transform(lambda x: x.fillna(np.mean(x)))"
   ]
  },
  {
   "cell_type": "code",
   "execution_count": 45,
   "metadata": {},
   "outputs": [
    {
     "name": "stdout",
     "output_type": "stream",
     "text": [
      "После выполнения работ: 0\n"
     ]
    }
   ],
   "source": [
    "print('После выполнения работ:', df['year_of_release'].isnull().sum())"
   ]
  },
  {
   "cell_type": "code",
   "execution_count": 46,
   "metadata": {},
   "outputs": [],
   "source": [
    "df.year_of_release = df.year_of_release.astype('int')"
   ]
  },
  {
   "cell_type": "markdown",
   "metadata": {},
   "source": [
    "## --Итог"
   ]
  },
  {
   "cell_type": "code",
   "execution_count": 47,
   "metadata": {},
   "outputs": [
    {
     "name": "stdout",
     "output_type": "stream",
     "text": [
      "ИТОГО\n",
      "Количество пропущенных значений\n",
      "name                  0\n",
      "platform              0\n",
      "year_of_release       0\n",
      "genre                 0\n",
      "na_sales              0\n",
      "eu_sales              0\n",
      "jp_sales              0\n",
      "other_sales           0\n",
      "critic_score       7279\n",
      "user_score         7279\n",
      "rating                0\n",
      "dtype: int64\n",
      "----\n",
      "Форма датасета (16713, 11)\n",
      "----\n",
      "<class 'pandas.core.frame.DataFrame'>\n",
      "RangeIndex: 16713 entries, 0 to 16712\n",
      "Data columns (total 11 columns):\n",
      "name               16713 non-null object\n",
      "platform           16713 non-null object\n",
      "year_of_release    16713 non-null int64\n",
      "genre              16713 non-null object\n",
      "na_sales           16713 non-null float64\n",
      "eu_sales           16713 non-null float64\n",
      "jp_sales           16713 non-null float64\n",
      "other_sales        16713 non-null float64\n",
      "critic_score       9434 non-null float64\n",
      "user_score         9434 non-null float64\n",
      "rating             16713 non-null object\n",
      "dtypes: float64(6), int64(1), object(4)\n",
      "memory usage: 1.4+ MB\n"
     ]
    }
   ],
   "source": [
    "print('ИТОГО')\n",
    "print('Количество пропущенных значений\\n',df.isnull().sum(), sep='')\n",
    "print('----')\n",
    "print('Форма датасета',df.shape)\n",
    "print('----')\n",
    "df.info()"
   ]
  },
  {
   "cell_type": "markdown",
   "metadata": {},
   "source": [
    "## Посчитайте суммарные продажи во всех регионах и запишите их в отдельный столбец."
   ]
  },
  {
   "cell_type": "code",
   "execution_count": 48,
   "metadata": {},
   "outputs": [],
   "source": [
    "df['world_sales'] = df['na_sales'] + df['eu_sales'] + df['jp_sales'] + df['other_sales']"
   ]
  },
  {
   "cell_type": "markdown",
   "metadata": {},
   "source": [
    "# Шаг 4. Проведите исследовательский анализ данных"
   ]
  },
  {
   "cell_type": "markdown",
   "metadata": {},
   "source": [
    "## Посмотрите, сколько игр выпускалось в разные годы. Важны ли данные за все периоды?"
   ]
  },
  {
   "cell_type": "code",
   "execution_count": 49,
   "metadata": {},
   "outputs": [
    {
     "data": {
      "text/plain": [
       "2008    1492\n",
       "2009    1442\n",
       "2010    1281\n",
       "2007    1202\n",
       "2011    1153\n",
       "2006    1019\n",
       "2005     948\n",
       "2002     845\n",
       "2003     803\n",
       "2004     785\n",
       "2012     662\n",
       "2015     606\n",
       "2014     582\n",
       "2013     553\n",
       "2016     502\n",
       "2001     486\n",
       "1998     387\n",
       "2000     351\n",
       "1999     339\n",
       "1997     289\n",
       "1996     263\n",
       "1995     220\n",
       "1994     122\n",
       "1993      60\n",
       "1982      52\n",
       "1981      46\n",
       "1992      43\n",
       "1991      41\n",
       "1986      21\n",
       "1989      17\n",
       "1983      17\n",
       "1987      16\n",
       "1990      16\n",
       "1988      15\n",
       "1984      14\n",
       "1985      14\n",
       "1980       9\n",
       "Name: year_of_release, dtype: int64"
      ]
     },
     "execution_count": 49,
     "metadata": {},
     "output_type": "execute_result"
    }
   ],
   "source": [
    "df.year_of_release.value_counts()"
   ]
  },
  {
   "cell_type": "code",
   "execution_count": 50,
   "metadata": {},
   "outputs": [
    {
     "data": {
      "text/plain": [
       "<matplotlib.axes._subplots.AxesSubplot at 0x7f70f2feae90>"
      ]
     },
     "execution_count": 50,
     "metadata": {},
     "output_type": "execute_result"
    },
    {
     "data": {
      "image/png": "[encoded data removed]",
      "text/plain": [
       "<Figure size 432x288 with 1 Axes>"
      ]
     },
     "metadata": {
      "needs_background": "light"
     },
     "output_type": "display_data"
    }
   ],
   "source": [
    "df.groupby('year_of_release')['name'].count().plot(title='Выпуск игр')"
   ]
  },
  {
   "cell_type": "markdown",
   "metadata": {},
   "source": [
    "Обратите внимание на спад выпуска игр перед 2010 годом.\n",
    "\n",
    "Я искал насчет этого информацию в Яндексе и пришел к выводу, что на это также оказал влияние кризис 2008 года.\n",
    "\n",
    "Допустим в октябре 2008 года цена акций EA упала на 75% с 50 до 15 долларов и оставалось на этом уровне ещё пять лет. А ведь EA была самым крупным издателем в мире. Акции Activision Blizzard, Take-Two, THQ, Gamestop и Nintendo провалились на 50%."
   ]
  },
  {
   "cell_type": "markdown",
   "metadata": {},
   "source": [
    "## Посмотрите, как менялись продажи по платформам. Выберите платформы с наибольшими суммарными продажами и постройте распределение по годам. Найдите популярные в прошлом платформы, у которых сейчас продажи на нуле. За какой характерный период появляются новые и исчезают старые платформы?"
   ]
  },
  {
   "cell_type": "markdown",
   "metadata": {},
   "source": [
    "Суммарные продажи у каждой платформы"
   ]
  },
  {
   "cell_type": "code",
   "execution_count": 51,
   "metadata": {},
   "outputs": [
    {
     "data": {
      "text/plain": [
       "platform\n",
       "2600      96.98\n",
       "3DO        0.10\n",
       "3DS      259.00\n",
       "DC        15.95\n",
       "DS       806.12\n",
       "GB       255.46\n",
       "GBA      317.85\n",
       "GC       198.93\n",
       "GEN       28.35\n",
       "GG         0.04\n",
       "N64      218.68\n",
       "NES      251.05\n",
       "NG         1.44\n",
       "PC       259.52\n",
       "PCFX       0.03\n",
       "PS       730.86\n",
       "PS2     1255.77\n",
       "PS3      939.65\n",
       "PS4      314.14\n",
       "PSP      294.05\n",
       "PSV       54.07\n",
       "SAT       33.59\n",
       "SCD        1.86\n",
       "SNES     200.04\n",
       "TG16       0.16\n",
       "WS         1.42\n",
       "Wii      907.51\n",
       "WiiU      82.19\n",
       "X360     971.42\n",
       "XB       257.74\n",
       "XOne     159.32\n",
       "Name: world_sales, dtype: float64"
      ]
     },
     "execution_count": 51,
     "metadata": {},
     "output_type": "execute_result"
    }
   ],
   "source": [
    "df.groupby('platform').sum()['world_sales']"
   ]
  },
  {
   "cell_type": "markdown",
   "metadata": {},
   "source": [
    "Вот такой график продаж у 10 самых популярных платформ"
   ]
  },
  {
   "cell_type": "code",
   "execution_count": 52,
   "metadata": {},
   "outputs": [
    {
     "data": {
      "text/plain": [
       "<matplotlib.axes._subplots.AxesSubplot at 0x7f70f2f46910>"
      ]
     },
     "execution_count": 52,
     "metadata": {},
     "output_type": "execute_result"
    },
    {
     "data": {
      "image/png": "[encoded data removed]",
      "text/plain": [
       "<Figure size 576x432 with 1 Axes>"
      ]
     },
     "metadata": {
      "needs_background": "light"
     },
     "output_type": "display_data"
    }
   ],
   "source": [
    "most_popular = df.groupby('platform').sum()['world_sales'].sort_values(ascending=False).index.values[:10]\n",
    "\n",
    "popular_df = df[df.platform.isin(most_popular)]\n",
    "popular_df = popular_df.pivot_table(index='year_of_release', columns='platform', values='world_sales', aggfunc='sum')\n",
    "popular_df.plot(figsize=(8,6))"
   ]
  },
  {
   "cell_type": "markdown",
   "metadata": {},
   "source": [
    "**Найдите популярные в прошлом платформы, у которых сейчас продажи на нуле**\n",
    "\n",
    "Судя по графику выше это:\n",
    "\n",
    "PS2\n",
    "\n",
    "PS\n",
    "\n",
    "Wii\n",
    "\n",
    "X360\n",
    "\n",
    "PS3\n",
    "\n",
    "DS\n",
    "\n",
    "XB"
   ]
  },
  {
   "cell_type": "code",
   "execution_count": 53,
   "metadata": {},
   "outputs": [
    {
     "data": {
      "text/html": [
       "<div>\n",
       "<style scoped>\n",
       "    .dataframe tbody tr th:only-of-type {\n",
       "        vertical-align: middle;\n",
       "    }\n",
       "\n",
       "    .dataframe tbody tr th {\n",
       "        vertical-align: top;\n",
       "    }\n",
       "\n",
       "    .dataframe thead th {\n",
       "        text-align: right;\n",
       "    }\n",
       "</style>\n",
       "<table border=\"1\" class=\"dataframe\">\n",
       "  <thead>\n",
       "    <tr style=\"text-align: right;\">\n",
       "      <th>year_of_release</th>\n",
       "      <th>platform</th>\n",
       "      <th>1985</th>\n",
       "      <th>1988</th>\n",
       "      <th>1992</th>\n",
       "      <th>1994</th>\n",
       "      <th>1995</th>\n",
       "      <th>1996</th>\n",
       "      <th>1997</th>\n",
       "      <th>1998</th>\n",
       "      <th>1999</th>\n",
       "      <th>...</th>\n",
       "      <th>2007</th>\n",
       "      <th>2008</th>\n",
       "      <th>2009</th>\n",
       "      <th>2010</th>\n",
       "      <th>2011</th>\n",
       "      <th>2012</th>\n",
       "      <th>2013</th>\n",
       "      <th>2014</th>\n",
       "      <th>2015</th>\n",
       "      <th>2016</th>\n",
       "    </tr>\n",
       "  </thead>\n",
       "  <tbody>\n",
       "    <tr>\n",
       "      <td>0</td>\n",
       "      <td>DS</td>\n",
       "      <td>0.02</td>\n",
       "      <td>0.0</td>\n",
       "      <td>0.0</td>\n",
       "      <td>0.00</td>\n",
       "      <td>0.00</td>\n",
       "      <td>0.0</td>\n",
       "      <td>0.00</td>\n",
       "      <td>0.00</td>\n",
       "      <td>0.00</td>\n",
       "      <td>...</td>\n",
       "      <td>147.23</td>\n",
       "      <td>147.20</td>\n",
       "      <td>119.56</td>\n",
       "      <td>85.35</td>\n",
       "      <td>26.33</td>\n",
       "      <td>11.67</td>\n",
       "      <td>1.54</td>\n",
       "      <td>0.00</td>\n",
       "      <td>0.00</td>\n",
       "      <td>0.0</td>\n",
       "    </tr>\n",
       "    <tr>\n",
       "      <td>1</td>\n",
       "      <td>GBA</td>\n",
       "      <td>0.00</td>\n",
       "      <td>0.0</td>\n",
       "      <td>0.0</td>\n",
       "      <td>0.00</td>\n",
       "      <td>0.00</td>\n",
       "      <td>0.0</td>\n",
       "      <td>0.00</td>\n",
       "      <td>0.00</td>\n",
       "      <td>0.00</td>\n",
       "      <td>...</td>\n",
       "      <td>3.40</td>\n",
       "      <td>0.00</td>\n",
       "      <td>0.00</td>\n",
       "      <td>0.00</td>\n",
       "      <td>0.00</td>\n",
       "      <td>0.00</td>\n",
       "      <td>0.00</td>\n",
       "      <td>0.00</td>\n",
       "      <td>0.00</td>\n",
       "      <td>0.0</td>\n",
       "    </tr>\n",
       "    <tr>\n",
       "      <td>3</td>\n",
       "      <td>PS</td>\n",
       "      <td>0.00</td>\n",
       "      <td>0.0</td>\n",
       "      <td>0.0</td>\n",
       "      <td>6.03</td>\n",
       "      <td>35.96</td>\n",
       "      <td>94.7</td>\n",
       "      <td>136.17</td>\n",
       "      <td>172.77</td>\n",
       "      <td>144.53</td>\n",
       "      <td>...</td>\n",
       "      <td>0.00</td>\n",
       "      <td>0.00</td>\n",
       "      <td>0.00</td>\n",
       "      <td>0.00</td>\n",
       "      <td>0.00</td>\n",
       "      <td>0.00</td>\n",
       "      <td>0.00</td>\n",
       "      <td>0.00</td>\n",
       "      <td>0.00</td>\n",
       "      <td>0.0</td>\n",
       "    </tr>\n",
       "    <tr>\n",
       "      <td>4</td>\n",
       "      <td>PS2</td>\n",
       "      <td>0.00</td>\n",
       "      <td>0.0</td>\n",
       "      <td>0.0</td>\n",
       "      <td>0.00</td>\n",
       "      <td>0.00</td>\n",
       "      <td>0.0</td>\n",
       "      <td>0.00</td>\n",
       "      <td>0.00</td>\n",
       "      <td>0.00</td>\n",
       "      <td>...</td>\n",
       "      <td>76.10</td>\n",
       "      <td>53.90</td>\n",
       "      <td>26.40</td>\n",
       "      <td>6.59</td>\n",
       "      <td>0.45</td>\n",
       "      <td>0.00</td>\n",
       "      <td>0.00</td>\n",
       "      <td>0.00</td>\n",
       "      <td>0.00</td>\n",
       "      <td>0.0</td>\n",
       "    </tr>\n",
       "    <tr>\n",
       "      <td>7</td>\n",
       "      <td>PSP</td>\n",
       "      <td>0.00</td>\n",
       "      <td>0.0</td>\n",
       "      <td>0.0</td>\n",
       "      <td>0.00</td>\n",
       "      <td>0.00</td>\n",
       "      <td>0.0</td>\n",
       "      <td>0.00</td>\n",
       "      <td>0.00</td>\n",
       "      <td>0.00</td>\n",
       "      <td>...</td>\n",
       "      <td>47.30</td>\n",
       "      <td>37.24</td>\n",
       "      <td>37.78</td>\n",
       "      <td>35.04</td>\n",
       "      <td>17.82</td>\n",
       "      <td>7.95</td>\n",
       "      <td>3.38</td>\n",
       "      <td>0.24</td>\n",
       "      <td>0.12</td>\n",
       "      <td>0.0</td>\n",
       "    </tr>\n",
       "  </tbody>\n",
       "</table>\n",
       "<p>5 rows × 27 columns</p>\n",
       "</div>"
      ],
      "text/plain": [
       "year_of_release platform  1985  1988  1992  1994   1995  1996    1997    1998  \\\n",
       "0                     DS  0.02   0.0   0.0  0.00   0.00   0.0    0.00    0.00   \n",
       "1                    GBA  0.00   0.0   0.0  0.00   0.00   0.0    0.00    0.00   \n",
       "3                     PS  0.00   0.0   0.0  6.03  35.96  94.7  136.17  172.77   \n",
       "4                    PS2  0.00   0.0   0.0  0.00   0.00   0.0    0.00    0.00   \n",
       "7                    PSP  0.00   0.0   0.0  0.00   0.00   0.0    0.00    0.00   \n",
       "\n",
       "year_of_release    1999  ...    2007    2008    2009   2010   2011   2012  \\\n",
       "0                  0.00  ...  147.23  147.20  119.56  85.35  26.33  11.67   \n",
       "1                  0.00  ...    3.40    0.00    0.00   0.00   0.00   0.00   \n",
       "3                144.53  ...    0.00    0.00    0.00   0.00   0.00   0.00   \n",
       "4                  0.00  ...   76.10   53.90   26.40   6.59   0.45   0.00   \n",
       "7                  0.00  ...   47.30   37.24   37.78  35.04  17.82   7.95   \n",
       "\n",
       "year_of_release  2013  2014  2015  2016  \n",
       "0                1.54  0.00  0.00   0.0  \n",
       "1                0.00  0.00  0.00   0.0  \n",
       "3                0.00  0.00  0.00   0.0  \n",
       "4                0.00  0.00  0.00   0.0  \n",
       "7                3.38  0.24  0.12   0.0  \n",
       "\n",
       "[5 rows x 27 columns]"
      ]
     },
     "execution_count": 53,
     "metadata": {},
     "output_type": "execute_result"
    }
   ],
   "source": [
    "temp = popular_df.T.fillna(0).reset_index()\n",
    "temp[temp[2016]==0]"
   ]
  },
  {
   "cell_type": "markdown",
   "metadata": {},
   "source": [
    "**А теперь делаю окончательный вывод. Платформы с нулевым продажами в 2016 году это:**\n",
    "* DS\n",
    "* GBA\n",
    "* PS\n",
    "* PS2\n",
    "* PSP"
   ]
  },
  {
   "cell_type": "markdown",
   "metadata": {},
   "source": [
    "**Судя по верхнему графику в среднем продолжительность жизни каждой платформы составляет 10 лет**\n",
    "Хотя лично моё мнение в том, что PC будут еще долго в обороте.\n",
    "\n",
    "Ниже я решил провести более точные расчеты, а не опираться на данные графика"
   ]
  },
  {
   "cell_type": "code",
   "execution_count": 54,
   "metadata": {},
   "outputs": [],
   "source": [
    "temp.set_index('platform',inplace=True)"
   ]
  },
  {
   "cell_type": "markdown",
   "metadata": {},
   "source": [
    "Здесь я подсчитал количество годов с ненулевыми продажами для каждой популярной платформы. Из данного списка стоит исключить PC, так как он явно является выбросом."
   ]
  },
  {
   "cell_type": "code",
   "execution_count": 55,
   "metadata": {},
   "outputs": [],
   "source": [
    "life_of_platform = temp[temp!=0].count(axis=1)"
   ]
  },
  {
   "cell_type": "code",
   "execution_count": 56,
   "metadata": {},
   "outputs": [
    {
     "name": "stdout",
     "output_type": "stream",
     "text": [
      "Среднее время жизни платформы: 10.222222222222221\n"
     ]
    }
   ],
   "source": [
    "print('Среднее время жизни платформы:',life_of_platform.drop('PC').mean())"
   ]
  },
  {
   "cell_type": "markdown",
   "metadata": {},
   "source": [
    "## Определите, данные за какой период нужно взять, чтобы исключить значимое искажение распределения по платформам в 2016 году."
   ]
  },
  {
   "cell_type": "markdown",
   "metadata": {},
   "source": [
    "*Не понял вопроса :(*\n",
    "\n",
    "*Почему должно быть искажение в 2016 году ?*\n",
    "\n",
    "*Я так понял вы имеете ввиду сильно смещение среднего арифметического из-за того, что до 1996 года продажи были мизерными*"
   ]
  },
  {
   "cell_type": "code",
   "execution_count": 57,
   "metadata": {},
   "outputs": [
    {
     "data": {
      "text/plain": [
       "year_of_release\n",
       "1980     11.38\n",
       "1981     35.68\n",
       "1982     36.85\n",
       "1983     16.80\n",
       "1984     50.35\n",
       "1985     53.95\n",
       "1986     37.08\n",
       "1987     21.70\n",
       "1988     47.21\n",
       "1989     73.45\n",
       "1990     49.37\n",
       "1991     32.23\n",
       "1992     76.16\n",
       "1993     45.99\n",
       "1994     81.76\n",
       "1995     89.15\n",
       "1996    199.15\n",
       "1997    201.07\n",
       "1998    259.79\n",
       "1999    251.25\n",
       "2000    201.68\n",
       "2001    333.30\n",
       "2002    401.42\n",
       "2003    372.37\n",
       "2004    428.17\n",
       "2005    460.21\n",
       "2006    523.40\n",
       "2007    606.16\n",
       "2008    688.42\n",
       "2009    664.32\n",
       "2010    600.07\n",
       "2011    510.59\n",
       "2012    360.52\n",
       "2013    362.58\n",
       "2014    331.79\n",
       "2015    267.98\n",
       "2016    129.94\n",
       "Name: world_sales, dtype: float64"
      ]
     },
     "execution_count": 57,
     "metadata": {},
     "output_type": "execute_result"
    }
   ],
   "source": [
    "df.groupby('year_of_release').sum().world_sales"
   ]
  },
  {
   "cell_type": "markdown",
   "metadata": {},
   "source": [
    "## Далее работайте только с данными, которые вы определили. Не учитывайте данные за предыдущие годы."
   ]
  },
  {
   "cell_type": "code",
   "execution_count": 58,
   "metadata": {},
   "outputs": [],
   "source": [
    "# обрубаю наш датасет. Теперь в новом датафрейме будут данные начиная с 2008 года\n",
    "df_striped = df[(df['year_of_release']>=2008)].copy()"
   ]
  },
  {
   "cell_type": "markdown",
   "metadata": {},
   "source": [
    "## Какие платформы лидируют по продажам, растут или падают? Выберите несколько потенциально прибыльных платформ."
   ]
  },
  {
   "cell_type": "markdown",
   "metadata": {},
   "source": [
    "Ниже мы можем видеть тот же самый график, который был наверху, но здесь я сделал срез начиная от 2008 года"
   ]
  },
  {
   "cell_type": "code",
   "execution_count": 59,
   "metadata": {},
   "outputs": [
    {
     "data": {
      "text/plain": [
       "<matplotlib.axes._subplots.AxesSubplot at 0x7f70f2deced0>"
      ]
     },
     "execution_count": 59,
     "metadata": {},
     "output_type": "execute_result"
    },
    {
     "data": {
      "image/png": "[encoded data removed]",
      "text/plain": [
       "<Figure size 720x504 with 1 Axes>"
      ]
     },
     "metadata": {
      "needs_background": "light"
     },
     "output_type": "display_data"
    }
   ],
   "source": [
    "df_striped.pivot_table(index='platform',\n",
    "                                                               columns='year_of_release',\n",
    "                                                               values='world_sales',\n",
    "                                                               aggfunc='sum').T.plot(figsize=(10,7))"
   ]
  },
  {
   "cell_type": "markdown",
   "metadata": {},
   "source": [
    "Перспективной платформой можно выделить:\n",
    "* PS4\n",
    "* PC\n",
    "* XOne\n",
    "* WiiU\n",
    "\n",
    "Несмотря на то, что у ПК не особо большие продажи она демонстрирует стабильность "
   ]
  },
  {
   "cell_type": "markdown",
   "metadata": {},
   "source": [
    "Судя по графику можно видеть отрицательный тренд почти на всем рынке видеоигр.\n",
    "\n",
    "К 2016 году упал продажи у некогда очень продаваемых платформ:\n",
    "* PS3\n",
    "* X360\n",
    "* Wii\n",
    "* PC изначально не демонстрировал больших продаж, но все равно заметно снижение"
   ]
  },
  {
   "cell_type": "markdown",
   "metadata": {},
   "source": [
    "## Постройте график «ящик с усами» по глобальным продажам каждой игры и разбивкой по платформам. Велика ли разница в продажах? А в средних продажах на разных платформах? Опишите результат."
   ]
  },
  {
   "cell_type": "code",
   "execution_count": 60,
   "metadata": {},
   "outputs": [
    {
     "name": "stderr",
     "output_type": "stream",
     "text": [
      "/opt/conda/lib/python3.7/site-packages/numpy/core/_asarray.py:83: VisibleDeprecationWarning: Creating an ndarray from ragged nested sequences (which is a list-or-tuple of lists-or-tuples-or ndarrays with different lengths or shapes) is deprecated. If you meant to do this, you must specify 'dtype=object' when creating the ndarray\n",
      "  return array(a, dtype, copy=False, order=order)\n"
     ]
    },
    {
     "data": {
      "text/plain": [
       "<matplotlib.axes._subplots.AxesSubplot at 0x7f70f2e5e490>"
      ]
     },
     "execution_count": 60,
     "metadata": {},
     "output_type": "execute_result"
    },
    {
     "data": {
      "image/png": "[encoded data removed]",
      "text/plain": [
       "<Figure size 720x576 with 1 Axes>"
      ]
     },
     "metadata": {
      "needs_background": "light"
     },
     "output_type": "display_data"
    }
   ],
   "source": [
    "df_striped.boxplot(by='platform', column='world_sales', figsize=(10,8))"
   ]
  },
  {
   "cell_type": "markdown",
   "metadata": {},
   "source": [
    "^\n",
    "\n",
    "^\n",
    "\n",
    "Разница в  основном незначительна. С 1 по 3 квартиль разные платформы демонстрируют похожие продажи. То есть медианные продажи не будут сильно различаться, чего не скажешь о средних. На боксплотах наверху можно наблюдать какой серьезный выброс есть у Wii. Это игра Wii Sports, которая далеко обогнала все остальные игры"
   ]
  },
  {
   "cell_type": "markdown",
   "metadata": {},
   "source": [
    "## Посмотрите, как влияют на продажи внутри одной популярной платформы отзывы пользователей и критиков. Постройте диаграмму рассеяния и посчитайте корреляцию между отзывами и продажами. Сформулируйте выводы и соотнесите их с продажами игр на других платформах."
   ]
  },
  {
   "cell_type": "code",
   "execution_count": 61,
   "metadata": {},
   "outputs": [],
   "source": [
    "df_popular = df_striped[df_striped.platform.isin(most_popular)]"
   ]
  },
  {
   "cell_type": "code",
   "execution_count": 62,
   "metadata": {},
   "outputs": [
    {
     "data": {
      "text/html": [
       "<div>\n",
       "<style scoped>\n",
       "    .dataframe tbody tr th:only-of-type {\n",
       "        vertical-align: middle;\n",
       "    }\n",
       "\n",
       "    .dataframe tbody tr th {\n",
       "        vertical-align: top;\n",
       "    }\n",
       "\n",
       "    .dataframe thead th {\n",
       "        text-align: right;\n",
       "    }\n",
       "</style>\n",
       "<table border=\"1\" class=\"dataframe\">\n",
       "  <thead>\n",
       "    <tr style=\"text-align: right;\">\n",
       "      <th></th>\n",
       "      <th>name</th>\n",
       "      <th>platform</th>\n",
       "      <th>year_of_release</th>\n",
       "      <th>genre</th>\n",
       "      <th>na_sales</th>\n",
       "      <th>eu_sales</th>\n",
       "      <th>jp_sales</th>\n",
       "      <th>other_sales</th>\n",
       "      <th>critic_score</th>\n",
       "      <th>user_score</th>\n",
       "      <th>rating</th>\n",
       "      <th>world_sales</th>\n",
       "    </tr>\n",
       "  </thead>\n",
       "  <tbody>\n",
       "    <tr>\n",
       "      <td>2</td>\n",
       "      <td>Mario Kart Wii</td>\n",
       "      <td>Wii</td>\n",
       "      <td>2008</td>\n",
       "      <td>Racing</td>\n",
       "      <td>15.68</td>\n",
       "      <td>12.76</td>\n",
       "      <td>3.79</td>\n",
       "      <td>3.29</td>\n",
       "      <td>82.0</td>\n",
       "      <td>8.3</td>\n",
       "      <td>E</td>\n",
       "      <td>35.52</td>\n",
       "    </tr>\n",
       "    <tr>\n",
       "      <td>3</td>\n",
       "      <td>Wii Sports Resort</td>\n",
       "      <td>Wii</td>\n",
       "      <td>2009</td>\n",
       "      <td>Sports</td>\n",
       "      <td>15.61</td>\n",
       "      <td>10.93</td>\n",
       "      <td>3.28</td>\n",
       "      <td>2.95</td>\n",
       "      <td>80.0</td>\n",
       "      <td>8.0</td>\n",
       "      <td>E</td>\n",
       "      <td>32.77</td>\n",
       "    </tr>\n",
       "    <tr>\n",
       "      <td>8</td>\n",
       "      <td>New Super Mario Bros. Wii</td>\n",
       "      <td>Wii</td>\n",
       "      <td>2009</td>\n",
       "      <td>Platform</td>\n",
       "      <td>14.44</td>\n",
       "      <td>6.94</td>\n",
       "      <td>4.70</td>\n",
       "      <td>2.24</td>\n",
       "      <td>87.0</td>\n",
       "      <td>8.4</td>\n",
       "      <td>E</td>\n",
       "      <td>28.32</td>\n",
       "    </tr>\n",
       "    <tr>\n",
       "      <td>14</td>\n",
       "      <td>Kinect Adventures!</td>\n",
       "      <td>X360</td>\n",
       "      <td>2010</td>\n",
       "      <td>Misc</td>\n",
       "      <td>15.00</td>\n",
       "      <td>4.89</td>\n",
       "      <td>0.24</td>\n",
       "      <td>1.69</td>\n",
       "      <td>61.0</td>\n",
       "      <td>6.3</td>\n",
       "      <td>E</td>\n",
       "      <td>21.82</td>\n",
       "    </tr>\n",
       "    <tr>\n",
       "      <td>15</td>\n",
       "      <td>Wii Fit Plus</td>\n",
       "      <td>Wii</td>\n",
       "      <td>2009</td>\n",
       "      <td>Sports</td>\n",
       "      <td>9.01</td>\n",
       "      <td>8.49</td>\n",
       "      <td>2.53</td>\n",
       "      <td>1.77</td>\n",
       "      <td>80.0</td>\n",
       "      <td>7.4</td>\n",
       "      <td>E</td>\n",
       "      <td>21.80</td>\n",
       "    </tr>\n",
       "  </tbody>\n",
       "</table>\n",
       "</div>"
      ],
      "text/plain": [
       "                         name platform  year_of_release     genre  na_sales  \\\n",
       "2              Mario Kart Wii      Wii             2008    Racing     15.68   \n",
       "3           Wii Sports Resort      Wii             2009    Sports     15.61   \n",
       "8   New Super Mario Bros. Wii      Wii             2009  Platform     14.44   \n",
       "14         Kinect Adventures!     X360             2010      Misc     15.00   \n",
       "15               Wii Fit Plus      Wii             2009    Sports      9.01   \n",
       "\n",
       "    eu_sales  jp_sales  other_sales  critic_score  user_score rating  \\\n",
       "2      12.76      3.79         3.29          82.0         8.3      E   \n",
       "3      10.93      3.28         2.95          80.0         8.0      E   \n",
       "8       6.94      4.70         2.24          87.0         8.4      E   \n",
       "14      4.89      0.24         1.69          61.0         6.3      E   \n",
       "15      8.49      2.53         1.77          80.0         7.4      E   \n",
       "\n",
       "    world_sales  \n",
       "2         35.52  \n",
       "3         32.77  \n",
       "8         28.32  \n",
       "14        21.82  \n",
       "15        21.80  "
      ]
     },
     "execution_count": 62,
     "metadata": {},
     "output_type": "execute_result"
    }
   ],
   "source": [
    "df_popular.head()"
   ]
  },
  {
   "cell_type": "code",
   "execution_count": 63,
   "metadata": {},
   "outputs": [
    {
     "data": {
      "text/html": [
       "<div>\n",
       "<style scoped>\n",
       "    .dataframe tbody tr th:only-of-type {\n",
       "        vertical-align: middle;\n",
       "    }\n",
       "\n",
       "    .dataframe tbody tr th {\n",
       "        vertical-align: top;\n",
       "    }\n",
       "\n",
       "    .dataframe thead th {\n",
       "        text-align: right;\n",
       "    }\n",
       "</style>\n",
       "<table border=\"1\" class=\"dataframe\">\n",
       "  <thead>\n",
       "    <tr style=\"text-align: right;\">\n",
       "      <th></th>\n",
       "      <th>year_of_release</th>\n",
       "      <th>na_sales</th>\n",
       "      <th>eu_sales</th>\n",
       "      <th>jp_sales</th>\n",
       "      <th>other_sales</th>\n",
       "      <th>critic_score</th>\n",
       "      <th>user_score</th>\n",
       "      <th>world_sales</th>\n",
       "    </tr>\n",
       "    <tr>\n",
       "      <th>platform</th>\n",
       "      <th></th>\n",
       "      <th></th>\n",
       "      <th></th>\n",
       "      <th></th>\n",
       "      <th></th>\n",
       "      <th></th>\n",
       "      <th></th>\n",
       "      <th></th>\n",
       "    </tr>\n",
       "  </thead>\n",
       "  <tbody>\n",
       "    <tr>\n",
       "      <td>DS</td>\n",
       "      <td>2875101</td>\n",
       "      <td>200.56</td>\n",
       "      <td>86.60</td>\n",
       "      <td>76.67</td>\n",
       "      <td>27.82</td>\n",
       "      <td>30117.855830</td>\n",
       "      <td>3223.295000</td>\n",
       "      <td>391.65</td>\n",
       "    </tr>\n",
       "    <tr>\n",
       "      <td>PC</td>\n",
       "      <td>1361652</td>\n",
       "      <td>42.24</td>\n",
       "      <td>94.21</td>\n",
       "      <td>0.00</td>\n",
       "      <td>18.54</td>\n",
       "      <td>40199.968568</td>\n",
       "      <td>3647.206667</td>\n",
       "      <td>154.99</td>\n",
       "    </tr>\n",
       "    <tr>\n",
       "      <td>PS2</td>\n",
       "      <td>668859</td>\n",
       "      <td>33.38</td>\n",
       "      <td>14.60</td>\n",
       "      <td>8.47</td>\n",
       "      <td>30.89</td>\n",
       "      <td>10074.903227</td>\n",
       "      <td>1057.480000</td>\n",
       "      <td>87.34</td>\n",
       "    </tr>\n",
       "    <tr>\n",
       "      <td>PS3</td>\n",
       "      <td>2437600</td>\n",
       "      <td>352.49</td>\n",
       "      <td>296.19</td>\n",
       "      <td>74.88</td>\n",
       "      <td>121.27</td>\n",
       "      <td>60616.537253</td>\n",
       "      <td>5809.544444</td>\n",
       "      <td>844.83</td>\n",
       "    </tr>\n",
       "    <tr>\n",
       "      <td>PS4</td>\n",
       "      <td>789937</td>\n",
       "      <td>108.74</td>\n",
       "      <td>141.09</td>\n",
       "      <td>15.96</td>\n",
       "      <td>48.35</td>\n",
       "      <td>21193.749192</td>\n",
       "      <td>1987.225000</td>\n",
       "      <td>314.14</td>\n",
       "    </tr>\n",
       "    <tr>\n",
       "      <td>PSP</td>\n",
       "      <td>1555930</td>\n",
       "      <td>34.95</td>\n",
       "      <td>27.08</td>\n",
       "      <td>61.36</td>\n",
       "      <td>16.18</td>\n",
       "      <td>15680.080266</td>\n",
       "      <td>1607.623333</td>\n",
       "      <td>139.57</td>\n",
       "    </tr>\n",
       "    <tr>\n",
       "      <td>Wii</td>\n",
       "      <td>2180211</td>\n",
       "      <td>340.73</td>\n",
       "      <td>173.49</td>\n",
       "      <td>48.06</td>\n",
       "      <td>51.63</td>\n",
       "      <td>35647.249362</td>\n",
       "      <td>3733.541667</td>\n",
       "      <td>613.91</td>\n",
       "    </tr>\n",
       "    <tr>\n",
       "      <td>X360</td>\n",
       "      <td>2058918</td>\n",
       "      <td>496.50</td>\n",
       "      <td>237.19</td>\n",
       "      <td>9.42</td>\n",
       "      <td>71.89</td>\n",
       "      <td>56362.869228</td>\n",
       "      <td>5431.466667</td>\n",
       "      <td>815.00</td>\n",
       "    </tr>\n",
       "  </tbody>\n",
       "</table>\n",
       "</div>"
      ],
      "text/plain": [
       "          year_of_release  na_sales  eu_sales  jp_sales  other_sales  \\\n",
       "platform                                                               \n",
       "DS                2875101    200.56     86.60     76.67        27.82   \n",
       "PC                1361652     42.24     94.21      0.00        18.54   \n",
       "PS2                668859     33.38     14.60      8.47        30.89   \n",
       "PS3               2437600    352.49    296.19     74.88       121.27   \n",
       "PS4                789937    108.74    141.09     15.96        48.35   \n",
       "PSP               1555930     34.95     27.08     61.36        16.18   \n",
       "Wii               2180211    340.73    173.49     48.06        51.63   \n",
       "X360              2058918    496.50    237.19      9.42        71.89   \n",
       "\n",
       "          critic_score   user_score  world_sales  \n",
       "platform                                          \n",
       "DS        30117.855830  3223.295000       391.65  \n",
       "PC        40199.968568  3647.206667       154.99  \n",
       "PS2       10074.903227  1057.480000        87.34  \n",
       "PS3       60616.537253  5809.544444       844.83  \n",
       "PS4       21193.749192  1987.225000       314.14  \n",
       "PSP       15680.080266  1607.623333       139.57  \n",
       "Wii       35647.249362  3733.541667       613.91  \n",
       "X360      56362.869228  5431.466667       815.00  "
      ]
     },
     "execution_count": 63,
     "metadata": {},
     "output_type": "execute_result"
    }
   ],
   "source": [
    "df_popular_grouped = df_popular.groupby('platform').sum()\n",
    "df_popular_grouped"
   ]
  },
  {
   "cell_type": "code",
   "execution_count": 64,
   "metadata": {},
   "outputs": [
    {
     "data": {
      "text/plain": [
       "array(['DS', 'PC', 'PS2', 'PS3', 'PS4', 'PSP', 'Wii', 'X360'],\n",
       "      dtype=object)"
      ]
     },
     "execution_count": 64,
     "metadata": {},
     "output_type": "execute_result"
    }
   ],
   "source": [
    "popular_platforms_list = df_popular_grouped.index.values\n",
    "popular_platforms_list"
   ]
  },
  {
   "cell_type": "code",
   "execution_count": 65,
   "metadata": {},
   "outputs": [
    {
     "data": {
      "image/png": "[encoded data removed]",
      "text/plain": [
       "<Figure size 2160x432 with 8 Axes>"
      ]
     },
     "metadata": {
      "needs_background": "light"
     },
     "output_type": "display_data"
    }
   ],
   "source": [
    "fig, ax = plt.subplots(nrows=1, ncols=8, sharey=True, figsize=(30,6))\n",
    "\n",
    "ax[0].scatter(data=df_popular[df_popular.platform=='DS'], x='user_score',y='world_sales')\n",
    "ax[1].scatter(data=df_popular[df_popular.platform=='PC'], x='user_score',y='world_sales')\n",
    "ax[2].scatter(data=df_popular[df_popular.platform=='PS2'], x='user_score',y='world_sales')\n",
    "ax[3].scatter(data=df_popular[df_popular.platform=='PS3'], x='user_score',y='world_sales')\n",
    "ax[4].scatter(data=df_popular[df_popular.platform=='PS4'], x='user_score',y='world_sales')\n",
    "ax[5].scatter(data=df_popular[df_popular.platform=='PSP'], x='user_score',y='world_sales')\n",
    "ax[6].scatter(data=df_popular[df_popular.platform=='Wii'], x='user_score',y='world_sales')\n",
    "ax[7].scatter(data=df_popular[df_popular.platform=='X360'], x='user_score',y='world_sales')\n",
    "\n",
    "fig.suptitle('Зависимость между user score и продажами у каждой платформы')\n",
    "ax[0].set_ylabel('World sales')\n",
    "for i,e in enumerate(ax[:]):\n",
    "    e.set_xlabel('User score')\n",
    "    platform_name = popular_platforms_list[i]\n",
    "    e.set_title(platform_name)\n",
    "    \n",
    "    \n"
   ]
  },
  {
   "cell_type": "code",
   "execution_count": 66,
   "metadata": {},
   "outputs": [
    {
     "data": {
      "image/png": "[encoded data removed]",
      "text/plain": [
       "<Figure size 2160x432 with 8 Axes>"
      ]
     },
     "metadata": {
      "needs_background": "light"
     },
     "output_type": "display_data"
    }
   ],
   "source": [
    "fig, ax = plt.subplots(nrows=1, ncols=8, sharey=True, figsize=(30,6))\n",
    "\n",
    "ax[0].scatter(data=df_popular[df_popular.platform=='DS'], x='critic_score',y='world_sales')\n",
    "ax[1].scatter(data=df_popular[df_popular.platform=='PC'], x='critic_score',y='world_sales')\n",
    "ax[2].scatter(data=df_popular[df_popular.platform=='PS2'],x='critic_score',y='world_sales')\n",
    "ax[3].scatter(data=df_popular[df_popular.platform=='PS3'],x='critic_score',y='world_sales')\n",
    "ax[4].scatter(data=df_popular[df_popular.platform=='PS4'],x='critic_score',y='world_sales')\n",
    "ax[5].scatter(data=df_popular[df_popular.platform=='PSP'],x='critic_score',y='world_sales')\n",
    "ax[6].scatter(data=df_popular[df_popular.platform=='Wii'],x='critic_score',y='world_sales')\n",
    "ax[7].scatter(data=df_popular[df_popular.platform=='X360'],x='critic_score',y='world_sales')\n",
    "\n",
    "fig.suptitle('Зависимость между critic score и продажами у каждой платформы')\n",
    "ax[0].set_ylabel('World sales')\n",
    "for i,e in enumerate(ax[:]):\n",
    "    e.set_xlabel('Critic score')\n",
    "    platform_name = popular_platforms_list[i]\n",
    "    e.set_title(platform_name)\n",
    "    \n",
    "    \n",
    "    \n"
   ]
  },
  {
   "cell_type": "markdown",
   "metadata": {},
   "source": [
    "Для большинства платформ  заметна положительная корреляция между critic_score/user_score и суммарным количеством продаж\n",
    "\n",
    "Примечателен тот факт, что для PS2 почти не заметна корреляция судя по графику.\n",
    "\n",
    "Высокий рейтинг далеко не всегда означает большие продажи, но вот низкий рейтинг почти всегда сулит низкий уровень продаж"
   ]
  },
  {
   "cell_type": "code",
   "execution_count": 67,
   "metadata": {},
   "outputs": [
    {
     "name": "stdout",
     "output_type": "stream",
     "text": [
      "Кореляции меду critic_score и world_sales\n",
      "\n",
      "Платформа: DS, Уровень кореляции: 0.29501067868959896\n",
      "Платформа: PC, Уровень кореляции: 0.28882200865571855\n",
      "Платформа: PS2, Уровень кореляции: 0.2838157200264882\n",
      "Платформа: PS3, Уровень кореляции: 0.40773541650128875\n",
      "Платформа: PS4, Уровень кореляции: 0.39356276649925565\n",
      "Платформа: PSP, Уровень кореляции: 0.2817564815007379\n",
      "Платформа: Wii, Уровень кореляции: 0.2073663755448791\n",
      "Платформа: X360, Уровень кореляции: 0.37518617966070666\n"
     ]
    }
   ],
   "source": [
    "print('Кореляции меду critic_score и world_sales\\n')\n",
    "for platform in popular_platforms_list:\n",
    "    print(f'Платформа: {platform}, Уровень кореляции:',df_popular[df_popular['platform']==platform].corr().loc['critic_score', 'world_sales'])"
   ]
  },
  {
   "cell_type": "code",
   "execution_count": 68,
   "metadata": {},
   "outputs": [
    {
     "name": "stdout",
     "output_type": "stream",
     "text": [
      "Кореляции меду user_score и world_sales\n",
      "\n",
      "Платформа: DS, Уровень кореляции: 0.22818601187616638\n",
      "Платформа: PC, Уровень кореляции: -0.022422037902582372\n",
      "Платформа: PS2, Уровень кореляции: 0.0922329968276797\n",
      "Платформа: PS3, Уровень кореляции: 0.11562984945446686\n",
      "Платформа: PS4, Уровень кореляции: -0.02182629905111597\n",
      "Платформа: PSP, Уровень кореляции: 0.20700370409275612\n",
      "Платформа: Wii, Уровень кореляции: 0.1377500818545846\n",
      "Платформа: X360, Уровень кореляции: 0.10343671208461648\n"
     ]
    }
   ],
   "source": [
    "print('Кореляции меду user_score и world_sales\\n')\n",
    "for platform in popular_platforms_list:\n",
    "    print(f'Платформа: {platform}, Уровень кореляции:',df_popular[df_popular['platform']==platform].corr().loc['user_score', 'world_sales'])"
   ]
  },
  {
   "cell_type": "markdown",
   "metadata": {},
   "source": [
    "Низкие уровни кореляции могут быть обусловлены тем, что кореляции отображает силу линейной взаимосвязи, а у этих данных может быть другая зависимость"
   ]
  },
  {
   "cell_type": "markdown",
   "metadata": {},
   "source": [
    "## Посмотрите на общее распределение игр по жанрам. Что можно сказать о самых прибыльных жанрах? Выделяются ли жанры с высокими и низкими продажами?"
   ]
  },
  {
   "cell_type": "code",
   "execution_count": 69,
   "metadata": {},
   "outputs": [
    {
     "name": "stderr",
     "output_type": "stream",
     "text": [
      "/opt/conda/lib/python3.7/site-packages/numpy/core/_asarray.py:83: VisibleDeprecationWarning: Creating an ndarray from ragged nested sequences (which is a list-or-tuple of lists-or-tuples-or ndarrays with different lengths or shapes) is deprecated. If you meant to do this, you must specify 'dtype=object' when creating the ndarray\n",
      "  return array(a, dtype, copy=False, order=order)\n"
     ]
    },
    {
     "data": {
      "text/plain": [
       "<matplotlib.axes._subplots.AxesSubplot at 0x7f70f2f56e50>"
      ]
     },
     "execution_count": 69,
     "metadata": {},
     "output_type": "execute_result"
    },
    {
     "data": {
      "image/png": "[encoded data removed]",
      "text/plain": [
       "<Figure size 720x504 with 1 Axes>"
      ]
     },
     "metadata": {
      "needs_background": "light"
     },
     "output_type": "display_data"
    }
   ],
   "source": [
    "df_striped.boxplot(by='genre', column='world_sales', figsize=(10,7))"
   ]
  },
  {
   "cell_type": "markdown",
   "metadata": {},
   "source": [
    "Если считать медианы, то наиоблее прибыльными жанрами являются платформеры, шутеры и спорт\n",
    "\n",
    "Однако некоторые жанры имеют приблизительно одинаковые медианные продажи"
   ]
  },
  {
   "cell_type": "code",
   "execution_count": 70,
   "metadata": {},
   "outputs": [
    {
     "data": {
      "text/plain": [
       "genre\n",
       "Shooter         0.33\n",
       "Platform        0.24\n",
       "Sports          0.20\n",
       "Fighting        0.18\n",
       "Racing          0.17\n",
       "Action          0.16\n",
       "Role-Playing    0.15\n",
       "Misc            0.14\n",
       "Simulation      0.12\n",
       "Puzzle          0.09\n",
       "Strategy        0.08\n",
       "Adventure       0.04\n",
       "Name: world_sales, dtype: float64"
      ]
     },
     "execution_count": 70,
     "metadata": {},
     "output_type": "execute_result"
    }
   ],
   "source": [
    "df_striped.groupby('genre').median()['world_sales'].sort_values(ascending=False)"
   ]
  },
  {
   "cell_type": "markdown",
   "metadata": {},
   "source": [
    "А вот здесь вы можете видеть разницу между медианным распределением и средним"
   ]
  },
  {
   "cell_type": "code",
   "execution_count": 71,
   "metadata": {},
   "outputs": [
    {
     "data": {
      "text/plain": [
       "genre\n",
       "Shooter         1.027664\n",
       "Platform        0.791336\n",
       "Sports          0.580000\n",
       "Racing          0.553786\n",
       "Role-Playing    0.532989\n",
       "Fighting        0.478360\n",
       "Action          0.476243\n",
       "Misc            0.398762\n",
       "Simulation      0.321839\n",
       "Puzzle          0.215709\n",
       "Strategy        0.209692\n",
       "Adventure       0.121394\n",
       "Name: world_sales, dtype: float64"
      ]
     },
     "execution_count": 71,
     "metadata": {},
     "output_type": "execute_result"
    }
   ],
   "source": [
    "df_striped.groupby('genre').mean()['world_sales'].sort_values(ascending=False)"
   ]
  },
  {
   "cell_type": "markdown",
   "metadata": {},
   "source": [
    "# Шаг 5. Составьте портрет пользователя каждого региона"
   ]
  },
  {
   "cell_type": "markdown",
   "metadata": {},
   "source": [
    "## Определите для пользователя каждого региона (NA, EU, JP):"
   ]
  },
  {
   "cell_type": "markdown",
   "metadata": {},
   "source": [
    "### Самые популярные платформы (топ-5). Опишите различия в долях продаж."
   ]
  },
  {
   "cell_type": "markdown",
   "metadata": {},
   "source": [
    "#### - NA\n",
    "\n",
    "Самые популярные платформы у американцев"
   ]
  },
  {
   "cell_type": "code",
   "execution_count": 72,
   "metadata": {},
   "outputs": [
    {
     "data": {
      "text/plain": [
       "platform\n",
       "X360    0.484863\n",
       "XOne    0.377004\n",
       "Wii     0.314037\n",
       "PS3     0.290833\n",
       "PS4     0.277398\n",
       "Name: na_sales, dtype: float64"
      ]
     },
     "execution_count": 72,
     "metadata": {},
     "output_type": "execute_result"
    }
   ],
   "source": [
    "na_popular_platforms = df_striped.groupby('platform').na_sales.mean().sort_values(ascending=False)[:5]\n",
    "na_popular_platforms"
   ]
  },
  {
   "cell_type": "markdown",
   "metadata": {},
   "source": [
    "#### - EU\n",
    "\n",
    "Самые популярные платформы у европейцев"
   ]
  },
  {
   "cell_type": "code",
   "execution_count": 73,
   "metadata": {},
   "outputs": [
    {
     "data": {
      "text/plain": [
       "platform\n",
       "PS4     0.359923\n",
       "PS3     0.244381\n",
       "X360    0.231631\n",
       "XOne    0.208866\n",
       "WiiU    0.170952\n",
       "Name: eu_sales, dtype: float64"
      ]
     },
     "execution_count": 73,
     "metadata": {},
     "output_type": "execute_result"
    }
   ],
   "source": [
    "eu_popular_platforms = df_striped.groupby('platform').eu_sales.mean().sort_values(ascending=False)[:5]\n",
    "eu_popular_platforms "
   ]
  },
  {
   "cell_type": "markdown",
   "metadata": {},
   "source": [
    "#### - JP\n",
    "\n",
    "Самые популярные платформы у японцев"
   ]
  },
  {
   "cell_type": "code",
   "execution_count": 74,
   "metadata": {},
   "outputs": [
    {
     "data": {
      "text/plain": [
       "platform\n",
       "3DS     0.193931\n",
       "WiiU    0.088503\n",
       "PSP     0.079276\n",
       "PS3     0.061782\n",
       "DS      0.053578\n",
       "Name: jp_sales, dtype: float64"
      ]
     },
     "execution_count": 74,
     "metadata": {},
     "output_type": "execute_result"
    }
   ],
   "source": [
    "jp_popular_platforms = df_striped.groupby('platform').jp_sales.mean().sort_values(ascending=False)[:5]\n",
    "jp_popular_platforms"
   ]
  },
  {
   "cell_type": "code",
   "execution_count": 75,
   "metadata": {},
   "outputs": [
    {
     "data": {
      "text/html": [
       "<div>\n",
       "<style scoped>\n",
       "    .dataframe tbody tr th:only-of-type {\n",
       "        vertical-align: middle;\n",
       "    }\n",
       "\n",
       "    .dataframe tbody tr th {\n",
       "        vertical-align: top;\n",
       "    }\n",
       "\n",
       "    .dataframe thead th {\n",
       "        text-align: right;\n",
       "    }\n",
       "</style>\n",
       "<table border=\"1\" class=\"dataframe\">\n",
       "  <thead>\n",
       "    <tr style=\"text-align: right;\">\n",
       "      <th></th>\n",
       "      <th>na_sales</th>\n",
       "      <th>eu_sales</th>\n",
       "      <th>jp_sales</th>\n",
       "    </tr>\n",
       "  </thead>\n",
       "  <tbody>\n",
       "    <tr>\n",
       "      <td>X360</td>\n",
       "      <td>0.484863</td>\n",
       "      <td>0.231631</td>\n",
       "      <td>NaN</td>\n",
       "    </tr>\n",
       "    <tr>\n",
       "      <td>XOne</td>\n",
       "      <td>0.377004</td>\n",
       "      <td>0.208866</td>\n",
       "      <td>NaN</td>\n",
       "    </tr>\n",
       "    <tr>\n",
       "      <td>Wii</td>\n",
       "      <td>0.314037</td>\n",
       "      <td>NaN</td>\n",
       "      <td>NaN</td>\n",
       "    </tr>\n",
       "    <tr>\n",
       "      <td>PS3</td>\n",
       "      <td>0.290833</td>\n",
       "      <td>0.244381</td>\n",
       "      <td>0.061782</td>\n",
       "    </tr>\n",
       "    <tr>\n",
       "      <td>PS4</td>\n",
       "      <td>0.277398</td>\n",
       "      <td>0.359923</td>\n",
       "      <td>NaN</td>\n",
       "    </tr>\n",
       "    <tr>\n",
       "      <td>WiiU</td>\n",
       "      <td>NaN</td>\n",
       "      <td>0.170952</td>\n",
       "      <td>0.088503</td>\n",
       "    </tr>\n",
       "    <tr>\n",
       "      <td>3DS</td>\n",
       "      <td>NaN</td>\n",
       "      <td>NaN</td>\n",
       "      <td>0.193931</td>\n",
       "    </tr>\n",
       "    <tr>\n",
       "      <td>PSP</td>\n",
       "      <td>NaN</td>\n",
       "      <td>NaN</td>\n",
       "      <td>0.079276</td>\n",
       "    </tr>\n",
       "    <tr>\n",
       "      <td>DS</td>\n",
       "      <td>NaN</td>\n",
       "      <td>NaN</td>\n",
       "      <td>0.053578</td>\n",
       "    </tr>\n",
       "  </tbody>\n",
       "</table>\n",
       "</div>"
      ],
      "text/plain": [
       "      na_sales  eu_sales  jp_sales\n",
       "X360  0.484863  0.231631       NaN\n",
       "XOne  0.377004  0.208866       NaN\n",
       "Wii   0.314037       NaN       NaN\n",
       "PS3   0.290833  0.244381  0.061782\n",
       "PS4   0.277398  0.359923       NaN\n",
       "WiiU       NaN  0.170952  0.088503\n",
       "3DS        NaN       NaN  0.193931\n",
       "PSP        NaN       NaN  0.079276\n",
       "DS         NaN       NaN  0.053578"
      ]
     },
     "execution_count": 75,
     "metadata": {},
     "output_type": "execute_result"
    }
   ],
   "source": [
    "data_to_plot = pd.DataFrame(data=[na_popular_platforms,eu_popular_platforms, jp_popular_platforms]).T\n",
    "data_to_plot"
   ]
  },
  {
   "cell_type": "code",
   "execution_count": 76,
   "metadata": {},
   "outputs": [
    {
     "data": {
      "text/plain": [
       "<matplotlib.axes._subplots.AxesSubplot at 0x7f70f30f32d0>"
      ]
     },
     "execution_count": 76,
     "metadata": {},
     "output_type": "execute_result"
    },
    {
     "data": {
      "image/png": "[encoded data removed]",
      "text/plain": [
       "<Figure size 720x576 with 1 Axes>"
      ]
     },
     "metadata": {
      "needs_background": "light"
     },
     "output_type": "display_data"
    }
   ],
   "source": [
    "data_to_plot.plot(kind='bar',figsize=(10,8))"
   ]
  },
  {
   "cell_type": "markdown",
   "metadata": {},
   "source": [
    "#### Вывод:\n",
    "Азиатский рынок наиоблее обособлен от остальных.\n",
    "\n",
    "Европейский и американский во многом схожи.\n",
    "\n",
    "Судя по графику платформа Wii была нацелена именно на американский рынок, учитывая то, что на других рынках она оказалась в аутсайдерах.\n",
    "\n",
    "- Самой популярной линейкой-платформ в США является - XBox\n",
    "\n",
    "- Самой популярной линейкой-платформ в Европе является - Playstation\n",
    "\n",
    "- Самой популярной линейкой-платформ в Японии является - DS(Nintendo)\n",
    "\n",
    "А в платформе XBOX азиатские геймеры видимо вообще не заинтересованы"
   ]
  },
  {
   "cell_type": "markdown",
   "metadata": {},
   "source": [
    "### Самые популярные жанры (топ-5). Поясните разницу."
   ]
  },
  {
   "cell_type": "markdown",
   "metadata": {},
   "source": [
    "#### - NA\n",
    "\n",
    "Самые популярные жанры у американцев"
   ]
  },
  {
   "cell_type": "code",
   "execution_count": 77,
   "metadata": {},
   "outputs": [
    {
     "data": {
      "text/plain": [
       "genre\n",
       "Shooter     0.525563\n",
       "Platform    0.374130\n",
       "Sports      0.286053\n",
       "Fighting    0.240482\n",
       "Racing      0.230388\n",
       "Name: na_sales, dtype: float64"
      ]
     },
     "execution_count": 77,
     "metadata": {},
     "output_type": "execute_result"
    }
   ],
   "source": [
    "na_popular_genres = df_striped.groupby('genre').na_sales.mean().sort_values(ascending=False)[:5]\n",
    "na_popular_genres"
   ]
  },
  {
   "cell_type": "markdown",
   "metadata": {},
   "source": [
    "#### - EU\n",
    "\n",
    "Самые популярные жанры у европейцев"
   ]
  },
  {
   "cell_type": "code",
   "execution_count": 78,
   "metadata": {},
   "outputs": [
    {
     "data": {
      "text/plain": [
       "genre\n",
       "Shooter     0.352437\n",
       "Platform    0.243725\n",
       "Racing      0.224417\n",
       "Sports      0.191470\n",
       "Action      0.156411\n",
       "Name: eu_sales, dtype: float64"
      ]
     },
     "execution_count": 78,
     "metadata": {},
     "output_type": "execute_result"
    }
   ],
   "source": [
    "eu_popular_genres = df_striped.groupby('genre').eu_sales.mean().sort_values(ascending=False)[:5]\n",
    "eu_popular_genres "
   ]
  },
  {
   "cell_type": "markdown",
   "metadata": {},
   "source": [
    "#### - JP\n",
    "\n",
    "Самые популярные жанры у японцев"
   ]
  },
  {
   "cell_type": "code",
   "execution_count": 79,
   "metadata": {},
   "outputs": [
    {
     "data": {
      "text/plain": [
       "genre\n",
       "Role-Playing    0.174754\n",
       "Platform        0.093158\n",
       "Fighting        0.074148\n",
       "Action          0.045027\n",
       "Simulation      0.038203\n",
       "Name: jp_sales, dtype: float64"
      ]
     },
     "execution_count": 79,
     "metadata": {},
     "output_type": "execute_result"
    }
   ],
   "source": [
    "jp_popular_genres = df_striped.groupby('genre').jp_sales.mean().sort_values(ascending=False)[:5]\n",
    "jp_popular_genres"
   ]
  },
  {
   "cell_type": "markdown",
   "metadata": {},
   "source": [
    "#### Вывод:\n",
    "Американский и европейский рынки опять-таки довольно похожи\n",
    "\n",
    "На азиатском рынке с отрывом лидирует жанр ролевых игр, после которого идет популярный везде жанр платформеров\n",
    "\n",
    "**В США фаворит:**\n",
    "- Шутеры\n",
    "\n",
    "**В США не любят:**\n",
    "- Action\n",
    "- Ролевые игры\n",
    "- Симуляторы\n",
    "\n",
    "**В Европе фаворит:**\n",
    "- Шутеры\n",
    "\n",
    "**В Европе не любят:**\n",
    "- Файтинги\n",
    "- Ролевые игры\n",
    "- Симуляторы\n",
    "\n",
    "**В Японии фаворит:**\n",
    "- Ролевухи\n",
    "\n",
    "**В Японии не любят:**\n",
    "- Шутеры\n",
    "- Спортивные игры\n",
    "- Гонки\n",
    "\n"
   ]
  },
  {
   "cell_type": "code",
   "execution_count": 80,
   "metadata": {},
   "outputs": [
    {
     "data": {
      "text/plain": [
       "<matplotlib.axes._subplots.AxesSubplot at 0x7f70f3097510>"
      ]
     },
     "execution_count": 80,
     "metadata": {},
     "output_type": "execute_result"
    },
    {
     "data": {
      "image/png": "[encoded data removed]",
      "text/plain": [
       "<Figure size 432x288 with 1 Axes>"
      ]
     },
     "metadata": {
      "needs_background": "light"
     },
     "output_type": "display_data"
    }
   ],
   "source": [
    "data_to_plot = pd.DataFrame(data=[na_popular_genres,eu_popular_genres, jp_popular_genres]).T\n",
    "data_to_plot.plot(kind='bar')"
   ]
  },
  {
   "cell_type": "markdown",
   "metadata": {},
   "source": [
    "### Влияет ли рейтинг ESRB на продажи в отдельном регионе?"
   ]
  },
  {
   "cell_type": "markdown",
   "metadata": {},
   "source": [
    "#### - NA\n",
    "Популярность рейтингов у американцев"
   ]
  },
  {
   "cell_type": "code",
   "execution_count": 81,
   "metadata": {},
   "outputs": [
    {
     "data": {
      "text/plain": [
       "rating\n",
       "AO              1.26\n",
       "E            1316.55\n",
       "E10+          362.04\n",
       "EC              2.04\n",
       "K-A             2.59\n",
       "M             760.71\n",
       "No rating    1181.79\n",
       "RP              0.00\n",
       "T             773.59\n",
       "Name: na_sales, dtype: float64"
      ]
     },
     "execution_count": 81,
     "metadata": {},
     "output_type": "execute_result"
    }
   ],
   "source": [
    "na_popular_ratings = df.groupby('rating').sum().na_sales\n",
    "na_popular_ratings "
   ]
  },
  {
   "cell_type": "markdown",
   "metadata": {},
   "source": [
    "#### - EU\n",
    "\n",
    "Популярность рейтингов у европейцев"
   ]
  },
  {
   "cell_type": "code",
   "execution_count": 82,
   "metadata": {},
   "outputs": [
    {
     "data": {
      "text/plain": [
       "rating\n",
       "AO             0.61\n",
       "E            719.99\n",
       "E10+         193.54\n",
       "EC             0.11\n",
       "K-A            0.29\n",
       "M            493.76\n",
       "No rating    580.01\n",
       "RP             0.08\n",
       "T            435.75\n",
       "Name: eu_sales, dtype: float64"
      ]
     },
     "execution_count": 82,
     "metadata": {},
     "output_type": "execute_result"
    }
   ],
   "source": [
    "eu_popular_ratings =  df.groupby('rating').sum().eu_sales\n",
    "eu_popular_ratings"
   ]
  },
  {
   "cell_type": "markdown",
   "metadata": {},
   "source": [
    "#### - JP\n",
    "\n",
    "Популярность рейтингов у азиатов"
   ]
  },
  {
   "cell_type": "code",
   "execution_count": 83,
   "metadata": {},
   "outputs": [
    {
     "data": {
      "text/plain": [
       "rating\n",
       "AO             0.00\n",
       "E            201.77\n",
       "E10+          41.04\n",
       "EC             0.00\n",
       "K-A            1.49\n",
       "M             65.43\n",
       "No rating    832.15\n",
       "RP             0.00\n",
       "T            155.46\n",
       "Name: jp_sales, dtype: float64"
      ]
     },
     "execution_count": 83,
     "metadata": {},
     "output_type": "execute_result"
    }
   ],
   "source": [
    "jp_popular_ratings = df.groupby('rating').sum().jp_sales\n",
    "jp_popular_ratings"
   ]
  },
  {
   "cell_type": "markdown",
   "metadata": {},
   "source": [
    "#### Вывод:\n",
    "На всёх 3 рынках доминируют игры с рейтингом E.\n",
    "\n",
    "Очень много данных у нас с неразмеченными рейтингами, что намного усложняет анализ продаж"
   ]
  },
  {
   "cell_type": "code",
   "execution_count": 84,
   "metadata": {},
   "outputs": [
    {
     "data": {
      "text/plain": [
       "<matplotlib.axes._subplots.AxesSubplot at 0x7f70f2bc01d0>"
      ]
     },
     "execution_count": 84,
     "metadata": {},
     "output_type": "execute_result"
    },
    {
     "data": {
      "image/png": "[encoded data removed]",
      "text/plain": [
       "<Figure size 720x576 with 1 Axes>"
      ]
     },
     "metadata": {
      "needs_background": "light"
     },
     "output_type": "display_data"
    }
   ],
   "source": [
    "data_to_plot = pd.DataFrame([na_popular_ratings, eu_popular_ratings, jp_popular_ratings])\n",
    "data_to_plot.plot(kind='bar', figsize=(10,8))"
   ]
  },
  {
   "cell_type": "markdown",
   "metadata": {},
   "source": [
    "# Шаг 6. Проведите исследование статистических показателей\n"
   ]
  },
  {
   "cell_type": "markdown",
   "metadata": {},
   "source": [
    "## Как изменяется пользовательский рейтинг и рейтинг критиков в различных жанрах? Посчитайте среднее количество, дисперсию и стандартное отклонение. Постройте гистограммы. Опишите распределения"
   ]
  },
  {
   "cell_type": "markdown",
   "metadata": {},
   "source": [
    "### Пользовательский рейтинг"
   ]
  },
  {
   "cell_type": "markdown",
   "metadata": {},
   "source": [
    "**Медианный пользовательский рейтинг у каждого жанра**\n",
    "\n",
    "Сначала для графика я хотел взять сумму рейтинга у каждого жанра, но из-за огромного различия в количестве наблюдений каждого жанра я взял медиану"
   ]
  },
  {
   "cell_type": "code",
   "execution_count": 85,
   "metadata": {},
   "outputs": [
    {
     "data": {
      "text/plain": [
       "genre\n",
       "Action          7.1\n",
       "Adventure       7.1\n",
       "Fighting        7.4\n",
       "Misc            6.9\n",
       "Platform        7.0\n",
       "Puzzle          7.3\n",
       "Racing          6.8\n",
       "Role-Playing    7.6\n",
       "Shooter         6.9\n",
       "Simulation      6.9\n",
       "Sports          6.5\n",
       "Strategy        7.1\n",
       "Name: user_score, dtype: float64"
      ]
     },
     "execution_count": 85,
     "metadata": {},
     "output_type": "execute_result"
    }
   ],
   "source": [
    "df_striped.groupby('genre').median().user_score"
   ]
  },
  {
   "cell_type": "code",
   "execution_count": 86,
   "metadata": {},
   "outputs": [
    {
     "data": {
      "text/plain": [
       "genre\n",
       "Action          1.318739\n",
       "Adventure       1.631990\n",
       "Fighting        1.327511\n",
       "Misc            1.504203\n",
       "Platform        1.559021\n",
       "Puzzle          1.355184\n",
       "Racing          1.551470\n",
       "Role-Playing    1.123018\n",
       "Shooter         1.555899\n",
       "Simulation      1.628011\n",
       "Sports          1.639869\n",
       "Strategy        1.543244\n",
       "Name: user_score, dtype: float64"
      ]
     },
     "execution_count": 86,
     "metadata": {},
     "output_type": "execute_result"
    }
   ],
   "source": [
    "df_striped.groupby('genre').std().user_score"
   ]
  },
  {
   "cell_type": "code",
   "execution_count": 87,
   "metadata": {},
   "outputs": [
    {
     "data": {
      "text/plain": [
       "genre\n",
       "Action          1.739073\n",
       "Adventure       2.663393\n",
       "Fighting        1.762284\n",
       "Misc            2.262625\n",
       "Platform        2.430548\n",
       "Puzzle          1.836522\n",
       "Racing          2.407059\n",
       "Role-Playing    1.261170\n",
       "Shooter         2.420821\n",
       "Simulation      2.650420\n",
       "Sports          2.689170\n",
       "Strategy        2.381602\n",
       "Name: user_score, dtype: float64"
      ]
     },
     "execution_count": 87,
     "metadata": {},
     "output_type": "execute_result"
    }
   ],
   "source": [
    "df_striped.groupby('genre').var().user_score"
   ]
  },
  {
   "cell_type": "code",
   "execution_count": 88,
   "metadata": {},
   "outputs": [
    {
     "data": {
      "text/plain": [
       "<matplotlib.axes._subplots.AxesSubplot at 0x7f70f2d21e50>"
      ]
     },
     "execution_count": 88,
     "metadata": {},
     "output_type": "execute_result"
    },
    {
     "data": {
      "image/png": "[encoded data removed]",
      "text/plain": [
       "<Figure size 720x504 with 1 Axes>"
      ]
     },
     "metadata": {
      "needs_background": "light"
     },
     "output_type": "display_data"
    }
   ],
   "source": [
    "df_striped.groupby('genre').median().user_score.plot(kind='bar', figsize=(10,7), grid=True)"
   ]
  },
  {
   "cell_type": "markdown",
   "metadata": {},
   "source": [
    "Медианный user score не особо не зависит от жанра, но у ролевых игр он немного больше, чем у остальных"
   ]
  },
  {
   "cell_type": "code",
   "execution_count": 89,
   "metadata": {},
   "outputs": [],
   "source": [
    "genres_list = df_striped.genre.unique().tolist()"
   ]
  },
  {
   "cell_type": "code",
   "execution_count": 90,
   "metadata": {},
   "outputs": [
    {
     "data": {
      "text/plain": [
       "Text(0.5, 0.98, 'Гистограммы распределения оценок пользователей у каждой платформы')"
      ]
     },
     "execution_count": 90,
     "metadata": {},
     "output_type": "execute_result"
    },
    {
     "data": {
      "image/png": "[encoded data removed]",
      "text/plain": [
       "<Figure size 1440x1080 with 12 Axes>"
      ]
     },
     "metadata": {
      "needs_background": "light"
     },
     "output_type": "display_data"
    }
   ],
   "source": [
    "fig, axes = plt.subplots(nrows=3, ncols=4, figsize=(20,15))\n",
    "\n",
    "axes = axes.flatten()\n",
    "\n",
    "num_of_bins = 10\n",
    "\n",
    "for genre,ax in zip(genres_list,axes):\n",
    "    ax.hist(df_striped[df_striped['genre']==genre].user_score, bins=num_of_bins)\n",
    "    ax.set_title(genre)\n",
    "fig.suptitle('Гистограммы распределения оценок пользователей у каждой платформы')\n"
   ]
  },
  {
   "cell_type": "markdown",
   "metadata": {},
   "source": [
    "### Рейтинг критиков"
   ]
  },
  {
   "cell_type": "code",
   "execution_count": 91,
   "metadata": {},
   "outputs": [
    {
     "data": {
      "text/plain": [
       "genre\n",
       "Action          70.0000\n",
       "Adventure       65.6273\n",
       "Fighting        74.0000\n",
       "Misc            70.0000\n",
       "Platform        71.0000\n",
       "Puzzle          70.0000\n",
       "Racing          70.0000\n",
       "Role-Playing    74.0000\n",
       "Shooter         74.0000\n",
       "Simulation      66.0000\n",
       "Sports          72.0000\n",
       "Strategy        75.0000\n",
       "Name: critic_score, dtype: float64"
      ]
     },
     "execution_count": 91,
     "metadata": {},
     "output_type": "execute_result"
    }
   ],
   "source": [
    "df_striped.groupby('genre').median().critic_score"
   ]
  },
  {
   "cell_type": "code",
   "execution_count": 92,
   "metadata": {},
   "outputs": [
    {
     "data": {
      "text/plain": [
       "genre\n",
       "Action          13.380860\n",
       "Adventure       14.722895\n",
       "Fighting        13.397573\n",
       "Misc            13.654674\n",
       "Platform        14.758304\n",
       "Puzzle          11.514360\n",
       "Racing          14.133031\n",
       "Role-Playing    12.235112\n",
       "Shooter         14.917894\n",
       "Simulation      12.040824\n",
       "Sports          15.845794\n",
       "Strategy        12.366751\n",
       "Name: critic_score, dtype: float64"
      ]
     },
     "execution_count": 92,
     "metadata": {},
     "output_type": "execute_result"
    }
   ],
   "source": [
    "df_striped.groupby('genre').std().critic_score"
   ]
  },
  {
   "cell_type": "code",
   "execution_count": 93,
   "metadata": {},
   "outputs": [
    {
     "data": {
      "text/plain": [
       "genre\n",
       "Action          13.380860\n",
       "Adventure       14.722895\n",
       "Fighting        13.397573\n",
       "Misc            13.654674\n",
       "Platform        14.758304\n",
       "Puzzle          11.514360\n",
       "Racing          14.133031\n",
       "Role-Playing    12.235112\n",
       "Shooter         14.917894\n",
       "Simulation      12.040824\n",
       "Sports          15.845794\n",
       "Strategy        12.366751\n",
       "Name: critic_score, dtype: float64"
      ]
     },
     "execution_count": 93,
     "metadata": {},
     "output_type": "execute_result"
    }
   ],
   "source": [
    "df_striped.groupby('genre').std().critic_score"
   ]
  },
  {
   "cell_type": "code",
   "execution_count": 94,
   "metadata": {},
   "outputs": [
    {
     "data": {
      "text/plain": [
       "Action          2023\n",
       "Misc            1018\n",
       "Sports           973\n",
       "Adventure        875\n",
       "Role-Playing     793\n",
       "Shooter          595\n",
       "Simulation       473\n",
       "Racing           412\n",
       "Fighting         311\n",
       "Strategy         292\n",
       "Puzzle           261\n",
       "Platform         247\n",
       "Name: genre, dtype: int64"
      ]
     },
     "execution_count": 94,
     "metadata": {},
     "output_type": "execute_result"
    }
   ],
   "source": [
    "df_striped.genre.value_counts()"
   ]
  },
  {
   "cell_type": "code",
   "execution_count": 95,
   "metadata": {},
   "outputs": [
    {
     "data": {
      "text/plain": [
       "Text(0.5, 0.98, 'Гистограммы распределения оценок критиков у каждой платформы')"
      ]
     },
     "execution_count": 95,
     "metadata": {},
     "output_type": "execute_result"
    },
    {
     "data": {
      "image/png": "[encoded data removed]",
      "text/plain": [
       "<Figure size 1440x1080 with 12 Axes>"
      ]
     },
     "metadata": {
      "needs_background": "light"
     },
     "output_type": "display_data"
    }
   ],
   "source": [
    "fig, axes = plt.subplots(nrows=3, ncols=4, figsize=(20,15))\n",
    "\n",
    "axes = axes.flatten()\n",
    "\n",
    "num_of_bins = 10\n",
    "\n",
    "for genre,ax in zip(genres_list,axes):\n",
    "    ax.hist(df_striped[df_striped['genre']==genre].critic_score, bins=num_of_bins)\n",
    "    ax.set_title(genre)\n",
    "fig.suptitle('Гистограммы распределения оценок критиков у каждой платформы')\n"
   ]
  },
  {
   "cell_type": "markdown",
   "metadata": {},
   "source": [
    "**Вывод**\n",
    "Обратите внимание, что у некоторых жанров можно выявить явно наиболее часто встречающиеся оценки у критиков или у пользователей. Допустим у жанра спорт наиболее вероятная оценка критиков будет чуть больше 80"
   ]
  },
  {
   "cell_type": "markdown",
   "metadata": {},
   "source": [
    "# Шаг 7. Проверьте гипотезы"
   ]
  },
  {
   "cell_type": "markdown",
   "metadata": {},
   "source": [
    "## Средние пользовательские рейтинги платформ Xbox One и PC одинаковые;"
   ]
  },
  {
   "cell_type": "markdown",
   "metadata": {},
   "source": [
    "**Нулевая гипотеза:**  средний пользовательский рейтинг платформы Xbox One == средний пользовательский рейтинг платформы PC"
   ]
  },
  {
   "cell_type": "markdown",
   "metadata": {},
   "source": [
    "**Альтернативная гипотеза:**   средний пользовательский рейтинг платформы Xbox One != средний пользовательский рейтинг платформы PC"
   ]
  },
  {
   "cell_type": "code",
   "execution_count": 96,
   "metadata": {},
   "outputs": [
    {
     "name": "stdout",
     "output_type": "stream",
     "text": [
      "Не можем отклонить нулевую гипотезу\n"
     ]
    }
   ],
   "source": [
    "alpha = 0.01\n",
    "\n",
    "a = df_striped.loc[df_striped['platform']=='XOne'].user_score.dropna().values\n",
    "b = df_striped.loc[df_striped['platform']=='PC'].user_score.dropna().values\n",
    "\n",
    "if ttest_ind(a,b).pvalue>alpha:\n",
    "    print('Не можем отклонить нулевую гипотезу')\n",
    "else:\n",
    "    print('Отклоняем нулевую гипотезу о равенстве средних')\n",
    "    "
   ]
  },
  {
   "cell_type": "markdown",
   "metadata": {},
   "source": [
    "## Средние пользовательские рейтинги жанров Action (англ. «действие») и Sports (англ. «виды спорта») разные."
   ]
  },
  {
   "cell_type": "markdown",
   "metadata": {},
   "source": [
    "**Нулевая гипотеза:** средний пользовательский рейтинг жанра Action == средний пользовательский рейтинг жанра Sports\n",
    "\n",
    "**Альтернативная гипотеза:**  средний пользовательский рейтинг жанра Action != средний пользовательский рейтинг жанра Sports"
   ]
  },
  {
   "cell_type": "code",
   "execution_count": 97,
   "metadata": {},
   "outputs": [
    {
     "name": "stdout",
     "output_type": "stream",
     "text": [
      "Отклоняем нулевую гипотезу о равенстве дисперсий\n"
     ]
    }
   ],
   "source": [
    "# для тоо, чтобы правильно проверить через Т-критерий Стьюдента, надо уточнить аргумент equal_var в функции\n",
    "# equal_var говорит о равенстве дисперсий 2 выборок\n",
    "# так что пока проверим равенство их дисперсий\n",
    "\n",
    "# нулевая гипотеза - дисперсии выборок равны\n",
    "# альтернативная гипотеза - дисперсии не равны\n",
    "alpha= 0.05\n",
    "a = df_striped.loc[df_striped['genre']=='Action'].user_score.dropna().values\n",
    "b = df_striped.loc[df_striped['genre']=='Sports'].user_score.dropna().values\n",
    "\n",
    "\n",
    "\n",
    "if levene(a,b).pvalue>alpha:\n",
    "    print('Не можем отклонить нулевую гипотезу')\n",
    "else:\n",
    "    print('Отклоняем нулевую гипотезу о равенстве дисперсий')\n",
    "   "
   ]
  },
  {
   "cell_type": "markdown",
   "metadata": {},
   "source": [
    "Следовательно надо выставить параметр equal_var функции ttest_ind в значение **False**"
   ]
  },
  {
   "cell_type": "code",
   "execution_count": 98,
   "metadata": {},
   "outputs": [
    {
     "name": "stdout",
     "output_type": "stream",
     "text": [
      "Отклоняем нулевую гипотезу о равенстве средних\n"
     ]
    }
   ],
   "source": [
    "alpha = 0.01\n",
    "\n",
    "\n",
    "a = df_striped.loc[df_striped['genre']=='Action'].user_score.dropna().values\n",
    "b = df_striped.loc[df_striped['genre']=='Sports'].user_score.dropna().values\n",
    "\n",
    "if ttest_ind(a,b,equal_var=False).pvalue>alpha:\n",
    "    print('Не можем отклонить нулевую гипотезу')\n",
    "else:\n",
    "    print('Отклоняем нулевую гипотезу о равенстве средних')\n",
    "    "
   ]
  },
  {
   "cell_type": "markdown",
   "metadata": {},
   "source": [
    "## Пояснение"
   ]
  },
  {
   "cell_type": "markdown",
   "metadata": {},
   "source": [
    "### Как вы сформулировали нулевую и альтернативную гипотезы;"
   ]
  },
  {
   "cell_type": "markdown",
   "metadata": {},
   "source": [
    "Нулевая гипотеза по определению должна быть со знаком равенства, а в альтернативную мы уже закладываем смысл, который нам нужен"
   ]
  },
  {
   "cell_type": "markdown",
   "metadata": {},
   "source": [
    "### Какой критерий применили для проверки гипотез и почему.\n"
   ]
  },
  {
   "cell_type": "markdown",
   "metadata": {},
   "source": [
    "Для сравнения статистик двух выборок нужно использовать t-test."
   ]
  },
  {
   "cell_type": "markdown",
   "metadata": {},
   "source": [
    "# Шаг 8. Общий вывод"
   ]
  },
  {
   "cell_type": "markdown",
   "metadata": {
    "tags": [
     "вывод"
    ]
   },
   "source": [
    "**Датасет на котором проводился анализ:** статистика продаж игр\n",
    "\n",
    "**Проблемы с которыми я столкнулся:** много пропущенных значений, неподходящие типы столбцов\n",
    "\n",
    "**Методика обработки пропущенных значений:** \n",
    "* находил частичный дубликат записи(отличался допустим платформой) и переносил оттуда информацию в пропущенные значения\n",
    "* делил данные на когорты по определенному признаку, для каждой когорты находил среднее значение целевого столбца и заполнял им соответственно пропущенные значения\n",
    "\n",
    "**Инсайты для компании:**\n",
    "\n",
    "Наиболее перспективной является плафтморма PS4. Она будет еще \"жива\" ориентировочно до 2022 года.\n",
    "\n",
    "На платформу PC не распространяется особенность 10-летнего срока жизни всех других платформ. Она существует уже десятки лет.\n",
    "\n",
    "На коммерческий успех игры больше влияют рейтинги критиков, чем рейтинги игроков\n",
    "\n",
    "### Выводы:\n",
    "#### Шаг 4. Исследовательский анализ данных\n",
    "##### Посмотрите, сколько игр выпускалось в разные годы. Важны ли данные за все периоды?\n",
    "Необязательно смотреть данные за все годы, так как многие платформы уже канули в лету и статистика за прошлые годы не принесет нам никакой пользы\n",
    "##### Какие платформы лидируют по продажам, растут или падают? Выберите несколько потенциально прибыльных платформ.\n",
    "- Лидирует по продажам PS4. \n",
    "- На всем рынке заметна тенденция снижения\n",
    "- Растущих платформ на 2016 год нет\n",
    "- Перспективные платформы:\n",
    "- - PS4\n",
    "- - PC\n",
    "- - XOne\n",
    "- - WiiU\n",
    "\n",
    "##### Постройте график «ящик с усами» по глобальным продажам каждой игры и разбивкой по платформам. Велика ли разница в продажах? А в средних продажах на разных платформах? Опишите результат.\n",
    "Разница в основном незначительна. С 1 по 3 квартиль разные платформы демонстрируют похожие продажи. То есть медианные продажи не будут сильно различаться, чего не скажешь о средних. У платформы Wii есть настоящий хит - Wii Sports. Он является самым что ни на есть выбросом в наших данных.\n",
    "\n",
    "##### Посмотрите, как влияют на продажи внутри одной популярной платформы отзывы пользователей и критиков. Постройте диаграмму рассеяния и посчитайте корреляцию между отзывами и продажами. Сформулируйте выводы и соотнесите их с продажами игр на других платформах.\n",
    "Для большинства платформ заметна положительная корреляция между critic_score/user_score и суммарным количеством продаж\n",
    "\n",
    "Примечателен тот факт, что для PS2 почти не заметна корреляция судя по графику.\n",
    "\n",
    "Высокий рейтинг далеко не всегда означает большие продажи, но вот низкий рейтинг почти всегда сулит низкий уровень продаж\n",
    "\n",
    "##### Посмотрите на общее распределение игр по жанрам. Что можно сказать о самых прибыльных жанрах? Выделяются ли жанры с высокими и низкими продажами?\n",
    "Наиболее доходным является жанр шутеров. Обратите внимание, что я не сказал \"прибыльный\". Потому что данный жанр также является одним из самых дорогих в создании.\n",
    "Жанры особо не выдяляются по признаку высокие и них продажи или низкие\n",
    "#### Шаг 5. Составьте портрет пользователя каждого региона\n",
    "**Американский пользователь** предпочитает в первую очередь XBox. Любит играть в шутеры. Не очень любит играть в Action и Ролевые игры. \n",
    "\n",
    "**Европейский пользователь** предпочитает в первую очередь Playstation. Любит играть в шутеры. Не любит файтинги, ролевые игры и симуляторы.\n",
    "\n",
    "**Японский пользователь** предпочитает Nintendo и очень холодно относится к XBox. Любит играть в ролевые игры. Не любит шутеры, спортивные игры и гонки.\n",
    "\n",
    "#### Шаг 6. Проведите исследование статистических показателей\n",
    "##### Пользовательский рейтинг\n",
    "Медианный user score не особо не зависит от жанра, но у ролевых игр он немного больше, чем у остальных.\n",
    "\n",
    "##### Рейтинг критиков\n",
    "Наибольшее число жанров с количеством игр от 250 до 500.\n",
    "\n",
    "Однако в данном распределении есть заметный выброс - Action. Весьма популярный жанр для игроделов\n",
    "\n",
    "#### Шаг 7. Проверьте гипотезы\n",
    "Средние пользовательские рейтинги платформ Xbox One и PC одинаковые\n",
    "\n",
    "Средние пользовательские рейтинги жанров Action и Sports разные"
   ]
  }
 ],
 "metadata": {
  "kernelspec": {
   "display_name": "Python 3",
   "language": "python",
   "name": "python3"
  },
  "language_info": {
   "codemirror_mode": {
    "name": "ipython",
    "version": 3
   },
   "file_extension": ".py",
   "mimetype": "text/x-python",
   "name": "python",
   "nbconvert_exporter": "python",
   "pygments_lexer": "ipython3",
   "version": "3.7.6"
  },
  "toc": {
   "base_numbering": 1,
   "nav_menu": {},
   "number_sections": true,
   "sideBar": true,
   "skip_h1_title": true,
   "title_cell": "Table of Contents",
   "title_sidebar": "Contents",
   "toc_cell": false,
   "toc_position": {},
   "toc_section_display": true,
   "toc_window_display": false
  }
 },
 "nbformat": 4,
 "nbformat_minor": 4
}
